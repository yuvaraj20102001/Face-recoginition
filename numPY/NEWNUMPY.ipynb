{
 "cells": [
  {
   "cell_type": "code",
   "execution_count": 2,
   "metadata": {},
   "outputs": [],
   "source": [
    "#1\n",
    "import numpy as np"
   ]
  },
  {
   "cell_type": "code",
   "execution_count": 3,
   "metadata": {},
   "outputs": [
    {
     "data": {
      "text/plain": [
       "'1.22.3'"
      ]
     },
     "execution_count": 3,
     "metadata": {},
     "output_type": "execute_result"
    }
   ],
   "source": [
    "#2\n",
    "np.version.version"
   ]
  },
  {
   "cell_type": "code",
   "execution_count": 4,
   "metadata": {},
   "outputs": [
    {
     "data": {
      "text/plain": [
       "array([0., 0., 0., 0., 0., 0., 0., 0., 0., 0.])"
      ]
     },
     "execution_count": 4,
     "metadata": {},
     "output_type": "execute_result"
    }
   ],
   "source": [
    "#3\n",
    "x=np.zeros(10)\n",
    "x"
   ]
  },
  {
   "cell_type": "code",
   "execution_count": 5,
   "metadata": {},
   "outputs": [
    {
     "name": "stdout",
     "output_type": "stream",
     "text": [
      "number of elemnt: 10\n",
      "number of bytes occupied: 80\n"
     ]
    }
   ],
   "source": [
    "#4\n",
    "print(\"number of elemnt:\",x.size)\n",
    "print(\"number of bytes occupied:\",x.nbytes)\n"
   ]
  },
  {
   "cell_type": "code",
   "execution_count": 6,
   "metadata": {},
   "outputs": [
    {
     "name": "stdout",
     "output_type": "stream",
     "text": [
      "Help on ufunc:\n",
      "\n",
      "add = <ufunc 'add'>\n",
      "    add(x1, x2, /, out=None, *, where=True, casting='same_kind', order='K', dtype=None, subok=True[, signature, extobj])\n",
      "    \n",
      "    Add arguments element-wise.\n",
      "    \n",
      "    Parameters\n",
      "    ----------\n",
      "    x1, x2 : array_like\n",
      "        The arrays to be added.\n",
      "        If ``x1.shape != x2.shape``, they must be broadcastable to a common\n",
      "        shape (which becomes the shape of the output).\n",
      "    out : ndarray, None, or tuple of ndarray and None, optional\n",
      "        A location into which the result is stored. If provided, it must have\n",
      "        a shape that the inputs broadcast to. If not provided or None,\n",
      "        a freshly-allocated array is returned. A tuple (possible only as a\n",
      "        keyword argument) must have length equal to the number of outputs.\n",
      "    where : array_like, optional\n",
      "        This condition is broadcast over the input. At locations where the\n",
      "        condition is True, the `out` array will be set to the ufunc result.\n",
      "        Elsewhere, the `out` array will retain its original value.\n",
      "        Note that if an uninitialized `out` array is created via the default\n",
      "        ``out=None``, locations within it where the condition is False will\n",
      "        remain uninitialized.\n",
      "    **kwargs\n",
      "        For other keyword-only arguments, see the\n",
      "        :ref:`ufunc docs <ufuncs.kwargs>`.\n",
      "    \n",
      "    Returns\n",
      "    -------\n",
      "    add : ndarray or scalar\n",
      "        The sum of `x1` and `x2`, element-wise.\n",
      "        This is a scalar if both `x1` and `x2` are scalars.\n",
      "    \n",
      "    Notes\n",
      "    -----\n",
      "    Equivalent to `x1` + `x2` in terms of array broadcasting.\n",
      "    \n",
      "    Examples\n",
      "    --------\n",
      "    >>> np.add(1.0, 4.0)\n",
      "    5.0\n",
      "    >>> x1 = np.arange(9.0).reshape((3, 3))\n",
      "    >>> x2 = np.arange(3.0)\n",
      "    >>> np.add(x1, x2)\n",
      "    array([[  0.,   2.,   4.],\n",
      "           [  3.,   5.,   7.],\n",
      "           [  6.,   8.,  10.]])\n",
      "    \n",
      "    The ``+`` operator can be used as a shorthand for ``np.add`` on ndarrays.\n",
      "    \n",
      "    >>> x1 = np.arange(9.0).reshape((3, 3))\n",
      "    >>> x2 = np.arange(3.0)\n",
      "    >>> x1 + x2\n",
      "    array([[ 0.,  2.,  4.],\n",
      "           [ 3.,  5.,  7.],\n",
      "           [ 6.,  8., 10.]])\n",
      "\n"
     ]
    }
   ],
   "source": [
    "#5\n",
    "help(np.add)"
   ]
  },
  {
   "cell_type": "code",
   "execution_count": 7,
   "metadata": {},
   "outputs": [
    {
     "data": {
      "text/plain": [
       "array([0., 0., 0., 0., 1., 0., 0., 0., 0., 0.])"
      ]
     },
     "execution_count": 7,
     "metadata": {},
     "output_type": "execute_result"
    }
   ],
   "source": [
    "#6\n",
    "x[4]=1\n",
    "x"
   ]
  },
  {
   "cell_type": "code",
   "execution_count": 8,
   "metadata": {},
   "outputs": [
    {
     "data": {
      "text/plain": [
       "array([10, 11, 12, 13, 14, 15, 16, 17, 18, 19, 20, 21, 22, 23, 24, 25, 26,\n",
       "       27, 28, 29, 30, 31, 32, 33, 34, 35, 36, 37, 38, 39, 40, 41, 42, 43,\n",
       "       44, 45, 46, 47, 48])"
      ]
     },
     "execution_count": 8,
     "metadata": {},
     "output_type": "execute_result"
    }
   ],
   "source": [
    "#7\n",
    "a=np.arange(10,49)\n",
    "a"
   ]
  },
  {
   "cell_type": "code",
   "execution_count": 9,
   "metadata": {},
   "outputs": [
    {
     "data": {
      "text/plain": [
       "array([48, 47, 46, 45, 44, 43, 42, 41, 40, 39, 38, 37, 36, 35, 34, 33, 32,\n",
       "       31, 30, 29, 28, 27, 26, 25, 24, 23, 22, 21, 20, 19, 18, 17, 16, 15,\n",
       "       14, 13, 12, 11, 10])"
      ]
     },
     "execution_count": 9,
     "metadata": {},
     "output_type": "execute_result"
    }
   ],
   "source": [
    "#8\n",
    "a[::-1]"
   ]
  },
  {
   "cell_type": "code",
   "execution_count": 10,
   "metadata": {},
   "outputs": [
    {
     "data": {
      "text/plain": [
       "array([[0, 1, 2],\n",
       "       [3, 4, 5],\n",
       "       [6, 7, 8]])"
      ]
     },
     "execution_count": 10,
     "metadata": {},
     "output_type": "execute_result"
    }
   ],
   "source": [
    "#9\n",
    "a=np.arange(0,9).reshape((3,3))\n",
    "a"
   ]
  },
  {
   "cell_type": "code",
   "execution_count": 11,
   "metadata": {},
   "outputs": [
    {
     "data": {
      "text/plain": [
       "(array([ 0,  1,  2,  4,  7,  8, 10, 11], dtype=int64),)"
      ]
     },
     "execution_count": 11,
     "metadata": {},
     "output_type": "execute_result"
    }
   ],
   "source": [
    "#10\n",
    "x=np.array([1,2,4,0,1,0,0,4,10,0,1,1,0])\n",
    "np.nonzero(x)"
   ]
  },
  {
   "cell_type": "code",
   "execution_count": 12,
   "metadata": {},
   "outputs": [
    {
     "data": {
      "text/plain": [
       "array([[1., 0., 0.],\n",
       "       [0., 1., 0.],\n",
       "       [0., 0., 1.]])"
      ]
     },
     "execution_count": 12,
     "metadata": {},
     "output_type": "execute_result"
    }
   ],
   "source": [
    "#11\n",
    "np.identity(3)"
   ]
  },
  {
   "cell_type": "code",
   "execution_count": 13,
   "metadata": {},
   "outputs": [
    {
     "data": {
      "text/plain": [
       "array([[[1, 8, 8],\n",
       "        [5, 0, 3],\n",
       "        [6, 1, 3]],\n",
       "\n",
       "       [[2, 7, 5],\n",
       "        [1, 2, 5],\n",
       "        [1, 8, 6]],\n",
       "\n",
       "       [[5, 8, 4],\n",
       "        [2, 3, 1],\n",
       "        [2, 0, 2]]])"
      ]
     },
     "execution_count": 13,
     "metadata": {},
     "output_type": "execute_result"
    }
   ],
   "source": [
    "#12\n",
    "np.random.randint(0,9,size=(3,3,3))"
   ]
  },
  {
   "cell_type": "code",
   "execution_count": 14,
   "metadata": {},
   "outputs": [
    {
     "name": "stdout",
     "output_type": "stream",
     "text": [
      "93\n",
      "554\n"
     ]
    }
   ],
   "source": [
    "#13\n",
    "a=np.random.randint(90,566,size=(10,10))\n",
    "print(np.min(a))\n",
    "print(np.max(a))"
   ]
  },
  {
   "cell_type": "code",
   "execution_count": 15,
   "metadata": {},
   "outputs": [
    {
     "data": {
      "text/plain": [
       "0.5663161660577832"
      ]
     },
     "execution_count": 15,
     "metadata": {},
     "output_type": "execute_result"
    }
   ],
   "source": [
    "#14\n",
    "rng=np.random.default_rng(10)\n",
    "x=rng.random((30))\n",
    "np.mean(x)"
   ]
  },
  {
   "cell_type": "code",
   "execution_count": 16,
   "metadata": {},
   "outputs": [
    {
     "data": {
      "text/plain": [
       "array([[1., 1., 1., 1., 1.],\n",
       "       [1., 0., 0., 0., 1.],\n",
       "       [1., 0., 0., 0., 1.],\n",
       "       [1., 0., 0., 0., 1.],\n",
       "       [1., 1., 1., 1., 1.]])"
      ]
     },
     "execution_count": 16,
     "metadata": {},
     "output_type": "execute_result"
    }
   ],
   "source": [
    "#15\n",
    "o=np.ones((5,5))\n",
    "z=np.zeros((3,3))\n",
    "o[1:4,1:4]=z\n",
    "o"
   ]
  },
  {
   "cell_type": "code",
   "execution_count": 17,
   "metadata": {},
   "outputs": [
    {
     "data": {
      "text/plain": [
       "array([[0., 0., 0., 0., 0.],\n",
       "       [0., 1., 1., 1., 0.],\n",
       "       [0., 1., 1., 1., 0.],\n",
       "       [0., 1., 1., 1., 0.],\n",
       "       [0., 0., 0., 0., 0.]])"
      ]
     },
     "execution_count": 17,
     "metadata": {},
     "output_type": "execute_result"
    }
   ],
   "source": [
    "#16\n",
    "x=np.ones((5,5))\n",
    "x[0]=0\n",
    "x[-1]=0\n",
    "x[:,0]=0\n",
    "x[:,-1]=0\n",
    "x"
   ]
  },
  {
   "cell_type": "code",
   "execution_count": 18,
   "metadata": {},
   "outputs": [
    {
     "data": {
      "text/plain": [
       "array([[0, 0, 0, 0, 0],\n",
       "       [1, 0, 0, 0, 0],\n",
       "       [0, 2, 0, 0, 0],\n",
       "       [0, 0, 3, 0, 0],\n",
       "       [0, 0, 0, 4, 0]])"
      ]
     },
     "execution_count": 18,
     "metadata": {},
     "output_type": "execute_result"
    }
   ],
   "source": [
    "#18\n",
    "np.diag(np.arange(1,5),k=-1)"
   ]
  },
  {
   "cell_type": "code",
   "execution_count": 19,
   "metadata": {},
   "outputs": [
    {
     "data": {
      "text/plain": [
       "array([[1., 0., 1., 0., 1., 0., 1., 0.],\n",
       "       [0., 1., 0., 1., 0., 1., 0., 1.],\n",
       "       [1., 0., 1., 0., 1., 0., 1., 0.],\n",
       "       [0., 1., 0., 1., 0., 1., 0., 1.],\n",
       "       [1., 0., 1., 0., 1., 0., 1., 0.],\n",
       "       [0., 1., 0., 1., 0., 1., 0., 1.],\n",
       "       [1., 0., 1., 0., 1., 0., 1., 0.],\n",
       "       [0., 1., 0., 1., 0., 1., 0., 1.]])"
      ]
     },
     "execution_count": 19,
     "metadata": {},
     "output_type": "execute_result"
    }
   ],
   "source": [
    "#19\n",
    "z=np.ones((8,8))\n",
    "z[1::2,::2]=0\n",
    "z[::2,1::2]=0\n",
    "z"
   ]
  },
  {
   "cell_type": "code",
   "execution_count": 20,
   "metadata": {},
   "outputs": [
    {
     "data": {
      "text/plain": [
       "(1, 5, 3)"
      ]
     },
     "execution_count": 20,
     "metadata": {},
     "output_type": "execute_result"
    }
   ],
   "source": [
    "#20\n",
    "rng=np.random.default_rng(1000)\n",
    "rng.random((6,7,8))\n",
    "np.unravel_index(99,(6,7,8))"
   ]
  },
  {
   "cell_type": "code",
   "execution_count": 21,
   "metadata": {},
   "outputs": [
    {
     "data": {
      "text/plain": [
       "array([[1, 0, 1, 0, 1, 0, 1, 0],\n",
       "       [0, 1, 0, 1, 0, 1, 0, 1],\n",
       "       [1, 0, 1, 0, 1, 0, 1, 0],\n",
       "       [0, 1, 0, 1, 0, 1, 0, 1],\n",
       "       [1, 0, 1, 0, 1, 0, 1, 0],\n",
       "       [0, 1, 0, 1, 0, 1, 0, 1],\n",
       "       [1, 0, 1, 0, 1, 0, 1, 0],\n",
       "       [0, 1, 0, 1, 0, 1, 0, 1]])"
      ]
     },
     "execution_count": 21,
     "metadata": {},
     "output_type": "execute_result"
    }
   ],
   "source": [
    "#21\n",
    "np.tile([[1,0],[0,1]],(4,4))"
   ]
  },
  {
   "cell_type": "code",
   "execution_count": 22,
   "metadata": {},
   "outputs": [
    {
     "data": {
      "text/plain": [
       "array([[0.71428571, 0.57142857, 0.71428571, 0.28571429, 0.        ],\n",
       "       [0.85714286, 0.42857143, 0.42857143, 0.        , 0.71428571],\n",
       "       [0.28571429, 0.42857143, 0.        , 0.42857143, 0.        ],\n",
       "       [0.14285714, 0.85714286, 1.        , 1.        , 0.        ],\n",
       "       [0.42857143, 1.        , 1.        , 0.14285714, 0.85714286]])"
      ]
     },
     "execution_count": 22,
     "metadata": {},
     "output_type": "execute_result"
    }
   ],
   "source": [
    "x=np.random.randint(2,10,size=(5,5))\n",
    "x=(x-np.min(x))/(np.max(x)-np.min(x))\n",
    "#x /=  x.sum(axis=1)[:,np.newaxis]\n",
    "x"
   ]
  },
  {
   "cell_type": "code",
   "execution_count": 23,
   "metadata": {},
   "outputs": [
    {
     "data": {
      "text/plain": [
       "dtype([('R', 'u1'), ('G', 'u1'), ('B', 'u1'), ('A', 'u1')])"
      ]
     },
     "execution_count": 23,
     "metadata": {},
     "output_type": "execute_result"
    }
   ],
   "source": [
    "color=np.dtype([('R',np.ubyte),('G',np.ubyte),('B',np.ubyte),('A',np.ubyte)])\n",
    "color"
   ]
  },
  {
   "cell_type": "code",
   "execution_count": 24,
   "metadata": {},
   "outputs": [
    {
     "name": "stdout",
     "output_type": "stream",
     "text": [
      "[[ 1  2  3]\n",
      " [ 4  5  6]\n",
      " [ 7  8  9]\n",
      " [10 11 12]\n",
      " [13 14 15]]\n",
      "[[1 2]\n",
      " [3 4]\n",
      " [5 6]]\n"
     ]
    },
    {
     "data": {
      "text/plain": [
       "array([[ 22,  28],\n",
       "       [ 49,  64],\n",
       "       [ 76, 100],\n",
       "       [103, 136],\n",
       "       [130, 172]])"
      ]
     },
     "execution_count": 24,
     "metadata": {},
     "output_type": "execute_result"
    }
   ],
   "source": [
    "a=np.arange(1,16).reshape((5,3))\n",
    "b=np.arange(1,7).reshape((3,2))\n",
    "print(a)\n",
    "print(b)\n",
    "a@b"
   ]
  },
  {
   "cell_type": "code",
   "execution_count": 25,
   "metadata": {},
   "outputs": [
    {
     "data": {
      "text/plain": [
       "array([ 1,  2,  3, -4, -5, 56, 56, -4, -4, -6,  8,  2,  1])"
      ]
     },
     "execution_count": 25,
     "metadata": {},
     "output_type": "execute_result"
    }
   ],
   "source": [
    "a=np.array([1,2,3,4,5,56,56,4,4,6,8,2,1])\n",
    "a[np.nonzero((a>3) & (a<8))]*=-1\n",
    "a"
   ]
  },
  {
   "cell_type": "code",
   "execution_count": 26,
   "metadata": {},
   "outputs": [
    {
     "name": "stdout",
     "output_type": "stream",
     "text": [
      "9\n",
      "10\n"
     ]
    }
   ],
   "source": [
    "print(sum(range(0,5),-1))\n",
    "from numpy import *\n",
    "print(sum(range(0,5),-1))"
   ]
  },
  {
   "cell_type": "code",
   "execution_count": 27,
   "metadata": {},
   "outputs": [
    {
     "data": {
      "text/plain": [
       "array([  1,   2,   4,   8,  16,  32,  64, 128, 256], dtype=int32)"
      ]
     },
     "execution_count": 27,
     "metadata": {},
     "output_type": "execute_result"
    }
   ],
   "source": [
    "Z=array([1,2,3,4,5,6,7,8,9])\n",
    "Z**Z\n",
    "2 << Z >>2"
   ]
  },
  {
   "cell_type": "code",
   "execution_count": 28,
   "metadata": {},
   "outputs": [
    {
     "name": "stdout",
     "output_type": "stream",
     "text": [
      "[-6.03424291  4.35488123 -8.43535573 -6.30470014 -6.30225179 -1.97481951\n",
      " -8.62512324  0.44514018 -9.35176189 -3.17393113]\n",
      "[ -7.   5.  -9.  -7.  -7.  -2.  -9.   1. -10.  -4.]\n",
      "[ 7.  5.  9.  7.  7.  2.  9.  1. 10.  4.]\n"
     ]
    }
   ],
   "source": [
    "#Z=np.array([1.000000002,2.00201,3.1222,4.123123,5.1231232,6.123312212],dtype=np.float64)\n",
    "Z = np.random.uniform(-10,+10,10)\n",
    "\n",
    "print(Z)\n",
    "print(np.copysign(np.ceil(np.abs(Z)), Z))\n",
    "print(np.ceil(np.abs(Z)))\n",
    "#x=x.astype(int64)\n"
   ]
  },
  {
   "cell_type": "code",
   "execution_count": 29,
   "metadata": {},
   "outputs": [
    {
     "name": "stdout",
     "output_type": "stream",
     "text": [
      "[[ 9 14  5  2 15 11  4]\n",
      " [15 18 19  1  4  9 11]]\n",
      "[[24  7 17 16]\n",
      " [24 11 20 24]\n",
      " [10  7  7 15]\n",
      " [ 7  9  1  4]\n",
      " [12  9  1  8]\n",
      " [17 15 24 13]\n",
      " [12 23  4  8]]\n"
     ]
    },
    {
     "data": {
      "text/plain": [
       "array([ 1,  4,  9, 11, 15])"
      ]
     },
     "execution_count": 29,
     "metadata": {},
     "output_type": "execute_result"
    }
   ],
   "source": [
    "a=np.random.randint(1,25,size=(2,7))\n",
    "b=np.random.randint(1,25,size=(7,4))\n",
    "print(a)\n",
    "print(b)\n",
    "np.intersect1d(a,b)"
   ]
  },
  {
   "cell_type": "code",
   "execution_count": 30,
   "metadata": {},
   "outputs": [
    {
     "name": "stdout",
     "output_type": "stream",
     "text": [
      "nan\n"
     ]
    },
    {
     "name": "stderr",
     "output_type": "stream",
     "text": [
      "C:\\Users\\yuvar\\AppData\\Local\\Temp\\ipykernel_15944\\501828943.py:1: RuntimeWarning: invalid value encountered in sqrt\n",
      "  print(np.sqrt(-1))\n"
     ]
    },
    {
     "data": {
      "text/plain": [
       "2j"
      ]
     },
     "execution_count": 30,
     "metadata": {},
     "output_type": "execute_result"
    }
   ],
   "source": [
    "\n",
    "print(np.sqrt(-1))\n",
    "np.emath.sqrt(-4)"
   ]
  },
  {
   "cell_type": "code",
   "execution_count": 31,
   "metadata": {},
   "outputs": [
    {
     "name": "stdout",
     "output_type": "stream",
     "text": [
      "2022-04-12\n",
      "2022-04-11\n",
      "2022-04-10\n"
     ]
    }
   ],
   "source": [
    "print(np.datetime64('today')+np.timedelta64(1))\n",
    "print(np.datetime64('today'))\n",
    "print(np.datetime64('today')-np.timedelta64(1))"
   ]
  },
  {
   "cell_type": "code",
   "execution_count": 32,
   "metadata": {},
   "outputs": [
    {
     "data": {
      "text/plain": [
       "array(['2016-07-01', '2016-07-02', '2016-07-03', '2016-07-04',\n",
       "       '2016-07-05', '2016-07-06', '2016-07-07', '2016-07-08',\n",
       "       '2016-07-09', '2016-07-10', '2016-07-11', '2016-07-12',\n",
       "       '2016-07-13', '2016-07-14', '2016-07-15', '2016-07-16',\n",
       "       '2016-07-17', '2016-07-18', '2016-07-19', '2016-07-20',\n",
       "       '2016-07-21', '2016-07-22', '2016-07-23', '2016-07-24',\n",
       "       '2016-07-25', '2016-07-26', '2016-07-27', '2016-07-28',\n",
       "       '2016-07-29', '2016-07-30', '2016-07-31'], dtype='datetime64[D]')"
      ]
     },
     "execution_count": 32,
     "metadata": {},
     "output_type": "execute_result"
    }
   ],
   "source": [
    "dates=np.arange('2016-07','2016-08',dtype='datetime64[D]')\n",
    "dates"
   ]
  },
  {
   "cell_type": "code",
   "execution_count": 33,
   "metadata": {},
   "outputs": [
    {
     "data": {
      "text/plain": [
       "array([0.75, 0.75, 0.75, 0.75, 0.75])"
      ]
     },
     "execution_count": 33,
     "metadata": {},
     "output_type": "execute_result"
    }
   ],
   "source": [
    "a=np.ones(5)\n",
    "b=np.ones(5)\n",
    "np.divide(a,2,out=a)\n",
    "np.add(a,b,out=b)\n",
    "np.multiply(a,b,out=a)\n",
    "a"
   ]
  },
  {
   "cell_type": "code",
   "execution_count": 34,
   "metadata": {},
   "outputs": [
    {
     "name": "stdout",
     "output_type": "stream",
     "text": [
      "[5. 4. 3. 0. 0. 0. 9. 2. 4. 2.]\n",
      "[5. 4. 3. 0. 0. 0. 9. 2. 4. 2.]\n",
      "[5. 4. 3. 0. 0. 0. 9. 2. 4. 2.]\n",
      "[5 4 3 0 0 0 9 2 4 2]\n",
      "[5. 4. 3. 0. 0. 0. 9. 2. 4. 2.]\n"
     ]
    }
   ],
   "source": [
    "a = np.random.uniform(0,10,10)\n",
    "\n",
    "print(a - a%1)\n",
    "print(a // 1)\n",
    "print(np.floor(a))\n",
    "print(a.astype(int))\n",
    "print(np.trunc(a))"
   ]
  },
  {
   "cell_type": "code",
   "execution_count": 35,
   "metadata": {},
   "outputs": [
    {
     "name": "stdout",
     "output_type": "stream",
     "text": [
      "[-6.03424291  4.35488123 -8.43535573 -6.30470014 -6.30225179 -1.97481951\n",
      " -8.62512324  0.44514018 -9.35176189 -3.17393113]\n"
     ]
    }
   ],
   "source": [
    "a = np.zeros((5,5))\n",
    "a += np.arange(5)\n",
    "print(Z)\n"
   ]
  },
  {
   "cell_type": "code",
   "execution_count": 36,
   "metadata": {},
   "outputs": [
    {
     "name": "stdout",
     "output_type": "stream",
     "text": [
      "[0. 1. 2. 3. 4. 5. 6. 7. 8. 9.]\n"
     ]
    }
   ],
   "source": [
    "def generate():\n",
    "    for x in range(10):\n",
    "        yield x\n",
    "x = np.fromiter(generate(),dtype=float,count=-1)\n",
    "print(x)"
   ]
  },
  {
   "cell_type": "code",
   "execution_count": 37,
   "metadata": {},
   "outputs": [
    {
     "name": "stdout",
     "output_type": "stream",
     "text": [
      "[0.09090909 0.18181818 0.27272727 0.36363636 0.45454545 0.54545455\n",
      " 0.63636364 0.72727273 0.81818182 0.90909091]\n"
     ]
    }
   ],
   "source": [
    "Z = np.linspace(0,1,11,endpoint=False)[1:]\n",
    "print(Z)"
   ]
  },
  {
   "cell_type": "code",
   "execution_count": 38,
   "metadata": {},
   "outputs": [
    {
     "name": "stdout",
     "output_type": "stream",
     "text": [
      "[0.11726659 0.23840857 0.25891767 0.44290345 0.71087214 0.79250081\n",
      " 0.81947697 0.87225652 0.93164482 0.9547935 ]\n"
     ]
    }
   ],
   "source": [
    "b = np.random.random(10)\n",
    "b.sort()\n",
    "print(b)"
   ]
  },
  {
   "cell_type": "code",
   "execution_count": 39,
   "metadata": {},
   "outputs": [
    {
     "data": {
      "text/plain": [
       "45"
      ]
     },
     "execution_count": 39,
     "metadata": {},
     "output_type": "execute_result"
    }
   ],
   "source": [
    "Z = np.arange(10)\n",
    "np.add.reduce(Z)"
   ]
  },
  {
   "cell_type": "code",
   "execution_count": 40,
   "metadata": {},
   "outputs": [
    {
     "name": "stdout",
     "output_type": "stream",
     "text": [
      "[0 0 0 1 1] [0 0 1 1 0]\n"
     ]
    },
    {
     "data": {
      "text/plain": [
       "False"
      ]
     },
     "execution_count": 40,
     "metadata": {},
     "output_type": "execute_result"
    }
   ],
   "source": [
    "A = np.random.randint(0,2,5)\n",
    "B = np.random.randint(0,2,5)\n",
    "print(A,B)\n",
    "np.array_equal(A,B)\n",
    "np.array_equiv(A,B)\n",
    "\n"
   ]
  },
  {
   "cell_type": "code",
   "execution_count": 41,
   "metadata": {},
   "outputs": [
    {
     "ename": "ValueError",
     "evalue": "assignment destination is read-only",
     "output_type": "error",
     "traceback": [
      "\u001b[1;31m---------------------------------------------------------------------------\u001b[0m",
      "\u001b[1;31mValueError\u001b[0m                                Traceback (most recent call last)",
      "\u001b[1;32me:\\PROGRAMS\\Intern\\programingfiles\\numPY\\NEWNUMPY.ipynb Cell 40'\u001b[0m in \u001b[0;36m<cell line: 3>\u001b[1;34m()\u001b[0m\n\u001b[0;32m      <a href='vscode-notebook-cell:/e%3A/PROGRAMS/Intern/programingfiles/numPY/NEWNUMPY.ipynb#ch0000039?line=0'>1</a>\u001b[0m A \u001b[39m=\u001b[39m np\u001b[39m.\u001b[39mrandom\u001b[39m.\u001b[39mrandint(\u001b[39m0\u001b[39m,\u001b[39m2\u001b[39m,\u001b[39m5\u001b[39m)\n\u001b[0;32m      <a href='vscode-notebook-cell:/e%3A/PROGRAMS/Intern/programingfiles/numPY/NEWNUMPY.ipynb#ch0000039?line=1'>2</a>\u001b[0m A\u001b[39m.\u001b[39mflags\u001b[39m.\u001b[39mwriteable\u001b[39m=\u001b[39m\u001b[39mNone\u001b[39;00m\n\u001b[1;32m----> <a href='vscode-notebook-cell:/e%3A/PROGRAMS/Intern/programingfiles/numPY/NEWNUMPY.ipynb#ch0000039?line=2'>3</a>\u001b[0m A[\u001b[39m0\u001b[39m]\u001b[39m=\u001b[39m\u001b[39m1\u001b[39m\n\u001b[0;32m      <a href='vscode-notebook-cell:/e%3A/PROGRAMS/Intern/programingfiles/numPY/NEWNUMPY.ipynb#ch0000039?line=3'>4</a>\u001b[0m A\n",
      "\u001b[1;31mValueError\u001b[0m: assignment destination is read-only"
     ]
    }
   ],
   "source": [
    "A = np.random.randint(0,2,5)\n",
    "A.flags.writeable=None\n",
    "A[0]=1\n",
    "A\n"
   ]
  },
  {
   "cell_type": "code",
   "execution_count": null,
   "metadata": {},
   "outputs": [
    {
     "name": "stdout",
     "output_type": "stream",
     "text": [
      "[[0 2]\n",
      " [8 9]\n",
      " [3 4]\n",
      " [6 1]\n",
      " [6 0]\n",
      " [3 5]\n",
      " [1 1]\n",
      " [5 9]\n",
      " [4 0]\n",
      " [6 0]]\n"
     ]
    },
    {
     "data": {
      "text/plain": [
       "(array([ 2.        , 12.04159458,  5.        ,  6.08276253,  6.        ,\n",
       "         5.83095189,  1.41421356, 10.29563014,  4.        ,  6.        ]),\n",
       " array([1.57079633, 0.84415399, 0.92729522, 0.16514868, 0.        ,\n",
       "        1.03037683, 0.78539816, 1.06369782, 0.        , 0.        ]))"
      ]
     },
     "execution_count": 44,
     "metadata": {},
     "output_type": "execute_result"
    }
   ],
   "source": [
    "a=np.random.randint(0,10,(10,2))\n",
    "print(a)\n",
    "x,y=a[:,0],a[:,1]\n",
    "x,y\n",
    "r = np.sqrt(x**2+y**2)\n",
    "t = np.arctan2(y,x)\n",
    "r,t"
   ]
  },
  {
   "cell_type": "code",
   "execution_count": null,
   "metadata": {},
   "outputs": [
    {
     "name": "stdout",
     "output_type": "stream",
     "text": [
      "[94 29 41 32 48 84 91 65  4 54]\n"
     ]
    },
    {
     "data": {
      "text/plain": [
       "array([ 0, 29, 41, 32, 48, 84, 91, 65,  4, 54])"
      ]
     },
     "execution_count": 45,
     "metadata": {},
     "output_type": "execute_result"
    }
   ],
   "source": [
    "a=random.randint(0,100,(10))\n",
    "print(a)\n",
    "a[np.argmax(a)]=0\n",
    "a"
   ]
  },
  {
   "cell_type": "code",
   "execution_count": null,
   "metadata": {},
   "outputs": [
    {
     "name": "stdout",
     "output_type": "stream",
     "text": [
      "[[(0.  , 0.  ) (0.25, 0.  ) (0.5 , 0.  ) (0.75, 0.  ) (1.  , 0.  )]\n",
      " [(0.  , 0.25) (0.25, 0.25) (0.5 , 0.25) (0.75, 0.25) (1.  , 0.25)]\n",
      " [(0.  , 0.5 ) (0.25, 0.5 ) (0.5 , 0.5 ) (0.75, 0.5 ) (1.  , 0.5 )]\n",
      " [(0.  , 0.75) (0.25, 0.75) (0.5 , 0.75) (0.75, 0.75) (1.  , 0.75)]\n",
      " [(0.  , 1.  ) (0.25, 1.  ) (0.5 , 1.  ) (0.75, 1.  ) (1.  , 1.  )]]\n"
     ]
    }
   ],
   "source": [
    "a = np.zeros((5,5), [('x',float),('y',float)])\n",
    "a['x'], a['y'] = np.meshgrid(np.linspace(0,1,5),np.linspace(0,1,5))\n",
    "print(a)"
   ]
  },
  {
   "cell_type": "code",
   "execution_count": null,
   "metadata": {},
   "outputs": [
    {
     "name": "stdout",
     "output_type": "stream",
     "text": [
      "-128 127\n",
      "-2147483648 2147483647\n",
      "-9223372036854775808 9223372036854775807\n",
      "-3.4028235e+38 3.4028235e+38\n",
      "-1.7976931348623157e+308 1.7976931348623157e+308\n"
     ]
    }
   ],
   "source": [
    "for dtype in [np.int8, np.int32, np.int64]:\n",
    "    print(np.iinfo(dtype).min,end=\" \")\n",
    "    print(np.iinfo(dtype).max)\n",
    "for dtype in [np.float32, np.float64]:\n",
    "   print(np.finfo(dtype).min,end=\" \")\n",
    "   print(np.finfo(dtype).max)"
   ]
  },
  {
   "cell_type": "code",
   "execution_count": null,
   "metadata": {},
   "outputs": [
    {
     "name": "stdout",
     "output_type": "stream",
     "text": [
      "[[0. 0. 0. 0. 0. 0. 0. 0. 0. 0. 0. 0. 0. 0. 0. 0. 0. 0. 0. 0. 0. 0. 0. 0.\n",
      "  0. 0. 0. 0. 0. 0. 0. 0. 0. 0. 0. 0. 0. 0. 0. 0.]\n",
      " [0. 0. 0. 0. 0. 0. 0. 0. 0. 0. 0. 0. 0. 0. 0. 0. 0. 0. 0. 0. 0. 0. 0. 0.\n",
      "  0. 0. 0. 0. 0. 0. 0. 0. 0. 0. 0. 0. 0. 0. 0. 0.]\n",
      " [0. 0. 0. 0. 0. 0. 0. 0. 0. 0. 0. 0. 0. 0. 0. 0. 0. 0. 0. 0. 0. 0. 0. 0.\n",
      "  0. 0. 0. 0. 0. 0. 0. 0. 0. 0. 0. 0. 0. 0. 0. 0.]\n",
      " [0. 0. 0. 0. 0. 0. 0. 0. 0. 0. 0. 0. 0. 0. 0. 0. 0. 0. 0. 0. 0. 0. 0. 0.\n",
      "  0. 0. 0. 0. 0. 0. 0. 0. 0. 0. 0. 0. 0. 0. 0. 0.]\n",
      " [0. 0. 0. 0. 0. 0. 0. 0. 0. 0. 0. 0. 0. 0. 0. 0. 0. 0. 0. 0. 0. 0. 0. 0.\n",
      "  0. 0. 0. 0. 0. 0. 0. 0. 0. 0. 0. 0. 0. 0. 0. 0.]\n",
      " [0. 0. 0. 0. 0. 0. 0. 0. 0. 0. 0. 0. 0. 0. 0. 0. 0. 0. 0. 0. 0. 0. 0. 0.\n",
      "  0. 0. 0. 0. 0. 0. 0. 0. 0. 0. 0. 0. 0. 0. 0. 0.]\n",
      " [0. 0. 0. 0. 0. 0. 0. 0. 0. 0. 0. 0. 0. 0. 0. 0. 0. 0. 0. 0. 0. 0. 0. 0.\n",
      "  0. 0. 0. 0. 0. 0. 0. 0. 0. 0. 0. 0. 0. 0. 0. 0.]\n",
      " [0. 0. 0. 0. 0. 0. 0. 0. 0. 0. 0. 0. 0. 0. 0. 0. 0. 0. 0. 0. 0. 0. 0. 0.\n",
      "  0. 0. 0. 0. 0. 0. 0. 0. 0. 0. 0. 0. 0. 0. 0. 0.]\n",
      " [0. 0. 0. 0. 0. 0. 0. 0. 0. 0. 0. 0. 0. 0. 0. 0. 0. 0. 0. 0. 0. 0. 0. 0.\n",
      "  0. 0. 0. 0. 0. 0. 0. 0. 0. 0. 0. 0. 0. 0. 0. 0.]\n",
      " [0. 0. 0. 0. 0. 0. 0. 0. 0. 0. 0. 0. 0. 0. 0. 0. 0. 0. 0. 0. 0. 0. 0. 0.\n",
      "  0. 0. 0. 0. 0. 0. 0. 0. 0. 0. 0. 0. 0. 0. 0. 0.]\n",
      " [0. 0. 0. 0. 0. 0. 0. 0. 0. 0. 0. 0. 0. 0. 0. 0. 0. 0. 0. 0. 0. 0. 0. 0.\n",
      "  0. 0. 0. 0. 0. 0. 0. 0. 0. 0. 0. 0. 0. 0. 0. 0.]\n",
      " [0. 0. 0. 0. 0. 0. 0. 0. 0. 0. 0. 0. 0. 0. 0. 0. 0. 0. 0. 0. 0. 0. 0. 0.\n",
      "  0. 0. 0. 0. 0. 0. 0. 0. 0. 0. 0. 0. 0. 0. 0. 0.]\n",
      " [0. 0. 0. 0. 0. 0. 0. 0. 0. 0. 0. 0. 0. 0. 0. 0. 0. 0. 0. 0. 0. 0. 0. 0.\n",
      "  0. 0. 0. 0. 0. 0. 0. 0. 0. 0. 0. 0. 0. 0. 0. 0.]\n",
      " [0. 0. 0. 0. 0. 0. 0. 0. 0. 0. 0. 0. 0. 0. 0. 0. 0. 0. 0. 0. 0. 0. 0. 0.\n",
      "  0. 0. 0. 0. 0. 0. 0. 0. 0. 0. 0. 0. 0. 0. 0. 0.]\n",
      " [0. 0. 0. 0. 0. 0. 0. 0. 0. 0. 0. 0. 0. 0. 0. 0. 0. 0. 0. 0. 0. 0. 0. 0.\n",
      "  0. 0. 0. 0. 0. 0. 0. 0. 0. 0. 0. 0. 0. 0. 0. 0.]\n",
      " [0. 0. 0. 0. 0. 0. 0. 0. 0. 0. 0. 0. 0. 0. 0. 0. 0. 0. 0. 0. 0. 0. 0. 0.\n",
      "  0. 0. 0. 0. 0. 0. 0. 0. 0. 0. 0. 0. 0. 0. 0. 0.]\n",
      " [0. 0. 0. 0. 0. 0. 0. 0. 0. 0. 0. 0. 0. 0. 0. 0. 0. 0. 0. 0. 0. 0. 0. 0.\n",
      "  0. 0. 0. 0. 0. 0. 0. 0. 0. 0. 0. 0. 0. 0. 0. 0.]\n",
      " [0. 0. 0. 0. 0. 0. 0. 0. 0. 0. 0. 0. 0. 0. 0. 0. 0. 0. 0. 0. 0. 0. 0. 0.\n",
      "  0. 0. 0. 0. 0. 0. 0. 0. 0. 0. 0. 0. 0. 0. 0. 0.]\n",
      " [0. 0. 0. 0. 0. 0. 0. 0. 0. 0. 0. 0. 0. 0. 0. 0. 0. 0. 0. 0. 0. 0. 0. 0.\n",
      "  0. 0. 0. 0. 0. 0. 0. 0. 0. 0. 0. 0. 0. 0. 0. 0.]\n",
      " [0. 0. 0. 0. 0. 0. 0. 0. 0. 0. 0. 0. 0. 0. 0. 0. 0. 0. 0. 0. 0. 0. 0. 0.\n",
      "  0. 0. 0. 0. 0. 0. 0. 0. 0. 0. 0. 0. 0. 0. 0. 0.]\n",
      " [0. 0. 0. 0. 0. 0. 0. 0. 0. 0. 0. 0. 0. 0. 0. 0. 0. 0. 0. 0. 0. 0. 0. 0.\n",
      "  0. 0. 0. 0. 0. 0. 0. 0. 0. 0. 0. 0. 0. 0. 0. 0.]\n",
      " [0. 0. 0. 0. 0. 0. 0. 0. 0. 0. 0. 0. 0. 0. 0. 0. 0. 0. 0. 0. 0. 0. 0. 0.\n",
      "  0. 0. 0. 0. 0. 0. 0. 0. 0. 0. 0. 0. 0. 0. 0. 0.]\n",
      " [0. 0. 0. 0. 0. 0. 0. 0. 0. 0. 0. 0. 0. 0. 0. 0. 0. 0. 0. 0. 0. 0. 0. 0.\n",
      "  0. 0. 0. 0. 0. 0. 0. 0. 0. 0. 0. 0. 0. 0. 0. 0.]\n",
      " [0. 0. 0. 0. 0. 0. 0. 0. 0. 0. 0. 0. 0. 0. 0. 0. 0. 0. 0. 0. 0. 0. 0. 0.\n",
      "  0. 0. 0. 0. 0. 0. 0. 0. 0. 0. 0. 0. 0. 0. 0. 0.]\n",
      " [0. 0. 0. 0. 0. 0. 0. 0. 0. 0. 0. 0. 0. 0. 0. 0. 0. 0. 0. 0. 0. 0. 0. 0.\n",
      "  0. 0. 0. 0. 0. 0. 0. 0. 0. 0. 0. 0. 0. 0. 0. 0.]\n",
      " [0. 0. 0. 0. 0. 0. 0. 0. 0. 0. 0. 0. 0. 0. 0. 0. 0. 0. 0. 0. 0. 0. 0. 0.\n",
      "  0. 0. 0. 0. 0. 0. 0. 0. 0. 0. 0. 0. 0. 0. 0. 0.]\n",
      " [0. 0. 0. 0. 0. 0. 0. 0. 0. 0. 0. 0. 0. 0. 0. 0. 0. 0. 0. 0. 0. 0. 0. 0.\n",
      "  0. 0. 0. 0. 0. 0. 0. 0. 0. 0. 0. 0. 0. 0. 0. 0.]\n",
      " [0. 0. 0. 0. 0. 0. 0. 0. 0. 0. 0. 0. 0. 0. 0. 0. 0. 0. 0. 0. 0. 0. 0. 0.\n",
      "  0. 0. 0. 0. 0. 0. 0. 0. 0. 0. 0. 0. 0. 0. 0. 0.]\n",
      " [0. 0. 0. 0. 0. 0. 0. 0. 0. 0. 0. 0. 0. 0. 0. 0. 0. 0. 0. 0. 0. 0. 0. 0.\n",
      "  0. 0. 0. 0. 0. 0. 0. 0. 0. 0. 0. 0. 0. 0. 0. 0.]\n",
      " [0. 0. 0. 0. 0. 0. 0. 0. 0. 0. 0. 0. 0. 0. 0. 0. 0. 0. 0. 0. 0. 0. 0. 0.\n",
      "  0. 0. 0. 0. 0. 0. 0. 0. 0. 0. 0. 0. 0. 0. 0. 0.]\n",
      " [0. 0. 0. 0. 0. 0. 0. 0. 0. 0. 0. 0. 0. 0. 0. 0. 0. 0. 0. 0. 0. 0. 0. 0.\n",
      "  0. 0. 0. 0. 0. 0. 0. 0. 0. 0. 0. 0. 0. 0. 0. 0.]\n",
      " [0. 0. 0. 0. 0. 0. 0. 0. 0. 0. 0. 0. 0. 0. 0. 0. 0. 0. 0. 0. 0. 0. 0. 0.\n",
      "  0. 0. 0. 0. 0. 0. 0. 0. 0. 0. 0. 0. 0. 0. 0. 0.]\n",
      " [0. 0. 0. 0. 0. 0. 0. 0. 0. 0. 0. 0. 0. 0. 0. 0. 0. 0. 0. 0. 0. 0. 0. 0.\n",
      "  0. 0. 0. 0. 0. 0. 0. 0. 0. 0. 0. 0. 0. 0. 0. 0.]\n",
      " [0. 0. 0. 0. 0. 0. 0. 0. 0. 0. 0. 0. 0. 0. 0. 0. 0. 0. 0. 0. 0. 0. 0. 0.\n",
      "  0. 0. 0. 0. 0. 0. 0. 0. 0. 0. 0. 0. 0. 0. 0. 0.]\n",
      " [0. 0. 0. 0. 0. 0. 0. 0. 0. 0. 0. 0. 0. 0. 0. 0. 0. 0. 0. 0. 0. 0. 0. 0.\n",
      "  0. 0. 0. 0. 0. 0. 0. 0. 0. 0. 0. 0. 0. 0. 0. 0.]\n",
      " [0. 0. 0. 0. 0. 0. 0. 0. 0. 0. 0. 0. 0. 0. 0. 0. 0. 0. 0. 0. 0. 0. 0. 0.\n",
      "  0. 0. 0. 0. 0. 0. 0. 0. 0. 0. 0. 0. 0. 0. 0. 0.]\n",
      " [0. 0. 0. 0. 0. 0. 0. 0. 0. 0. 0. 0. 0. 0. 0. 0. 0. 0. 0. 0. 0. 0. 0. 0.\n",
      "  0. 0. 0. 0. 0. 0. 0. 0. 0. 0. 0. 0. 0. 0. 0. 0.]\n",
      " [0. 0. 0. 0. 0. 0. 0. 0. 0. 0. 0. 0. 0. 0. 0. 0. 0. 0. 0. 0. 0. 0. 0. 0.\n",
      "  0. 0. 0. 0. 0. 0. 0. 0. 0. 0. 0. 0. 0. 0. 0. 0.]\n",
      " [0. 0. 0. 0. 0. 0. 0. 0. 0. 0. 0. 0. 0. 0. 0. 0. 0. 0. 0. 0. 0. 0. 0. 0.\n",
      "  0. 0. 0. 0. 0. 0. 0. 0. 0. 0. 0. 0. 0. 0. 0. 0.]\n",
      " [0. 0. 0. 0. 0. 0. 0. 0. 0. 0. 0. 0. 0. 0. 0. 0. 0. 0. 0. 0. 0. 0. 0. 0.\n",
      "  0. 0. 0. 0. 0. 0. 0. 0. 0. 0. 0. 0. 0. 0. 0. 0.]]\n"
     ]
    }
   ],
   "source": [
    "np.set_printoptions(threshold=float(\"inf\"))\n",
    "Z = np.zeros((40,40))\n",
    "print(Z)"
   ]
  },
  {
   "cell_type": "code",
   "execution_count": null,
   "metadata": {},
   "outputs": [
    {
     "name": "stdout",
     "output_type": "stream",
     "text": [
      "68\n"
     ]
    }
   ],
   "source": [
    "z = np.arange(100)\n",
    "v = np.random.uniform(0,100)\n",
    "print(z[(np.abs(Z-v)).argmin()])"
   ]
  },
  {
   "cell_type": "code",
   "execution_count": null,
   "metadata": {},
   "outputs": [
    {
     "name": "stdout",
     "output_type": "stream",
     "text": [
      "[((0., 0.), (0., 0., 0.)) ((0., 0.), (0., 0., 0.))\n",
      " ((0., 0.), (0., 0., 0.)) ((0., 0.), (0., 0., 0.))\n",
      " ((0., 0.), (0., 0., 0.)) ((0., 0.), (0., 0., 0.))\n",
      " ((0., 0.), (0., 0., 0.)) ((0., 0.), (0., 0., 0.))\n",
      " ((0., 0.), (0., 0., 0.)) ((0., 0.), (0., 0., 0.))]\n"
     ]
    }
   ],
   "source": [
    "\n",
    "Z = np.zeros(10, [ ('position', [ ('x', float),('y', float)]),\n",
    "                   ('color',    [ ('r', float),\n",
    "                                  ('g', float),\n",
    "                                  ('b', float)])])\n",
    "print(Z)"
   ]
  },
  {
   "cell_type": "code",
   "execution_count": null,
   "metadata": {},
   "outputs": [
    {
     "name": "stdout",
     "output_type": "stream",
     "text": [
      "[[0.8933684  0.23451406 0.66644587 0.6018331  0.97254169 0.04479416\n",
      "  0.02575498 0.02434355 0.19406497 0.02856681]] [[0.11110454 0.10593264 0.0922099  0.54373864 0.58901314 0.19977518\n",
      "  0.32328557 0.79415287 0.66031004 0.04876852]]\n",
      "[[0.         0.65887464 0.2277078  0.52169445 0.48442238 0.85319442\n",
      "  0.89318186 1.10533217 0.88918613 0.8670453 ]\n",
      " [0.65887464 0.         0.43214975 0.57148699 0.88207231 0.21166025\n",
      "  0.30136796 0.71959622 0.55585108 0.21373349]\n",
      " [0.2277078  0.43214975 0.         0.45612829 0.58353073 0.63088916\n",
      "  0.68108794 0.95132503 0.73883793 0.63935658]\n",
      " [0.52169445 0.57148699 0.45612829 0.         0.37346304 0.65467797\n",
      "  0.6168189  0.62944537 0.42410346 0.75738343]\n",
      " [0.48442238 0.88207231 0.58353073 0.37346304 0.         1.00609228\n",
      "  0.98336983 0.97013506 0.78173478 1.08763635]\n",
      " [0.85319442 0.21166025 0.63088916 0.65467797 1.00609228 0.\n",
      "  0.12496923 0.59472941 0.48412202 0.15187606]\n",
      " [0.89318186 0.30136796 0.68108794 0.6168189  0.98336983 0.12496923\n",
      "  0.         0.47086942 0.37671441 0.27453145]\n",
      " [1.10533217 0.71959622 0.95132503 0.62944537 0.97013506 0.59472941\n",
      "  0.47086942 0.         0.21614639 0.74539631]\n",
      " [0.88918613 0.55585108 0.73883793 0.42410346 0.78173478 0.48412202\n",
      "  0.37671441 0.21614639 0.         0.63353979]\n",
      " [0.8670453  0.21373349 0.63935658 0.75738343 1.08763635 0.15187606\n",
      "  0.27453145 0.74539631 0.63353979 0.        ]]\n"
     ]
    }
   ],
   "source": [
    "Z = np.random.random((10,2))\n",
    "X,Y = np.atleast_2d(Z[:,0], Z[:,1])\n",
    "#X,Y = Z[:,0], Z[:,1]\n",
    "print(X,Y)\n",
    "D = np.sqrt( (X-X.T)**2 + (Y-Y.T)**2)\n",
    "print(D)"
   ]
  },
  {
   "cell_type": "code",
   "execution_count": null,
   "metadata": {},
   "outputs": [
    {
     "name": "stdout",
     "output_type": "stream",
     "text": [
      "[1077441390 1104392764 1119143807 1112655566 1118247936 1079579896\n",
      " 1110210285 1118741119 1118884081 1113403379]\n"
     ]
    }
   ],
   "source": [
    "x = (np.random.rand(10)*100).astype(np.float32)\n",
    "x = x.view(np.int32)\n",
    "y[:] = x\n",
    "print(y)"
   ]
  },
  {
   "cell_type": "code",
   "execution_count": null,
   "metadata": {},
   "outputs": [
    {
     "name": "stdout",
     "output_type": "stream",
     "text": [
      "[[ 1  2  3  4  5]\n",
      " [ 6 -1 -1  7  8]\n",
      " [-1 -1  9 10 11]]\n"
     ]
    },
    {
     "name": "stderr",
     "output_type": "stream",
     "text": [
      "C:\\Users\\yuvar\\AppData\\Local\\Temp\\ipykernel_12388\\3095346764.py:1: DeprecationWarning: `np.int` is a deprecated alias for the builtin `int`. To silence this warning, use `int` by itself. Doing this will not modify any behavior and is safe. When replacing `np.int`, you may wish to use e.g. `np.int64` or `np.int32` to specify the precision. If you wish to review your current use, check the release note link for additional information.\n",
      "Deprecated in NumPy 1.20; for more details and guidance: https://numpy.org/devdocs/release/1.20.0-notes.html#deprecations\n",
      "  Z = np.genfromtxt('sample.txt', delimiter=\",\", dtype=np.int)\n"
     ]
    }
   ],
   "source": [
    "Z = np.genfromtxt('sample.txt', delimiter=\",\", dtype=np.int)\n",
    "print(Z)"
   ]
  },
  {
   "cell_type": "code",
   "execution_count": null,
   "metadata": {},
   "outputs": [
    {
     "name": "stdout",
     "output_type": "stream",
     "text": [
      "(0, 0) 0\n",
      "(0, 1) 1\n",
      "(0, 2) 2\n",
      "(1, 0) 3\n",
      "(1, 1) 4\n",
      "(1, 2) 5\n",
      "(2, 0) 6\n",
      "(2, 1) 7\n",
      "(2, 2) 8\n",
      "(0, 0) 0\n",
      "(0, 1) 1\n",
      "(0, 2) 2\n",
      "(1, 0) 3\n",
      "(1, 1) 4\n",
      "(1, 2) 5\n",
      "(2, 0) 6\n",
      "(2, 1) 7\n",
      "(2, 2) 8\n"
     ]
    }
   ],
   "source": [
    "Z = np.arange(9).reshape(3,3)\n",
    "for index, value in np.ndenumerate(Z):\n",
    "    print(index, value)\n",
    "for index in np.ndindex(Z.shape):\n",
    "    print(index, Z[index])"
   ]
  },
  {
   "cell_type": "code",
   "execution_count": null,
   "metadata": {},
   "outputs": [
    {
     "name": "stdout",
     "output_type": "stream",
     "text": [
      "[[0.36787944 0.53526143 0.60653066 0.53526143 0.36787944]\n",
      " [0.53526143 0.77880078 0.8824969  0.77880078 0.53526143]\n",
      " [0.60653066 0.8824969  1.         0.8824969  0.60653066]\n",
      " [0.53526143 0.77880078 0.8824969  0.77880078 0.53526143]\n",
      " [0.36787944 0.53526143 0.60653066 0.53526143 0.36787944]]\n"
     ]
    }
   ],
   "source": [
    "x,y=np.meshgrid(np.linspace(-1,1,5),np.linspace(-1,1,5))\n",
    "\n",
    "d=np.sqrt(x**2 + y**2)\n",
    "s,mu=1.0,0.0\n",
    "g=np.exp(-((d-mu)**2/2*s**2))\n",
    "print(g)"
   ]
  },
  {
   "cell_type": "code",
   "execution_count": null,
   "metadata": {},
   "outputs": [
    {
     "name": "stdout",
     "output_type": "stream",
     "text": [
      "[[0. 0. 0. 0. 0. 0. 0. 9. 9. 0.]\n",
      " [0. 0. 0. 0. 9. 0. 0. 0. 0. 0.]\n",
      " [0. 9. 0. 9. 9. 0. 0. 0. 0. 0.]\n",
      " [9. 0. 0. 9. 0. 9. 9. 9. 0. 0.]\n",
      " [0. 0. 0. 0. 0. 0. 0. 0. 0. 0.]\n",
      " [0. 0. 0. 0. 0. 0. 0. 0. 9. 9.]\n",
      " [0. 0. 0. 0. 0. 0. 0. 0. 9. 9.]\n",
      " [9. 0. 0. 0. 0. 0. 0. 0. 9. 0.]\n",
      " [0. 0. 0. 0. 0. 0. 0. 0. 9. 0.]\n",
      " [0. 0. 0. 0. 9. 9. 0. 9. 0. 0.]]\n"
     ]
    }
   ],
   "source": [
    "Z = np.zeros((10,10))\n",
    "np.put(Z, np.random.choice(range(10*10), 25),9)\n",
    "print(Z)"
   ]
  },
  {
   "cell_type": "code",
   "execution_count": null,
   "metadata": {},
   "outputs": [
    {
     "name": "stdout",
     "output_type": "stream",
     "text": [
      "[[ 0.13559219  0.03845266 -0.21583535 -0.0859727   0.12996116 -0.19146551\n",
      "   0.23975     0.23526932 -0.29352881  0.00777703]\n",
      " [-0.14349898 -0.43843484 -0.44753207  0.34762366  0.35950008 -0.44594891\n",
      "   0.1521449   0.33214329  0.13579218  0.1482107 ]\n",
      " [-0.3506043   0.17923954 -0.1268356  -0.07820576  0.10450135 -0.24894297\n",
      "  -0.38259086  0.33669267  0.4310935   0.13565244]\n",
      " [-0.49757082 -0.05665878  0.07572498  0.11228087  0.1703575   0.35736849\n",
      "  -0.2864281  -0.01897758  0.24290081 -0.09899737]\n",
      " [-0.29542431  0.13051017 -0.32846421  0.19855465 -0.47354449  0.29926393\n",
      "  -0.202192    0.04098443  0.21443627  0.41587556]]\n"
     ]
    }
   ],
   "source": [
    "\n",
    "X = np.random.rand(5, 10)\n",
    "Y = X - X.mean(axis=1, keepdims=True)\n",
    "print(Y)"
   ]
  },
  {
   "cell_type": "code",
   "execution_count": null,
   "metadata": {},
   "outputs": [
    {
     "name": "stdout",
     "output_type": "stream",
     "text": [
      "[[9 6 4]\n",
      " [8 4 8]\n",
      " [1 4 4]]\n",
      "[[8 4 8]\n",
      " [1 4 4]\n",
      " [9 6 4]]\n"
     ]
    }
   ],
   "source": [
    "Z = np.random.randint(0,10,(3,3))\n",
    "print(Z)\n",
    "print(Z[Z[:,1].argsort()])"
   ]
  },
  {
   "cell_type": "code",
   "execution_count": null,
   "metadata": {},
   "outputs": [
    {
     "name": "stdout",
     "output_type": "stream",
     "text": [
      "False\n"
     ]
    }
   ],
   "source": [
    "Z = np.random.randint(0,3,(3,10))\n",
    "print((~Z.any(axis=0)).any())"
   ]
  },
  {
   "cell_type": "code",
   "execution_count": null,
   "metadata": {},
   "outputs": [
    {
     "name": "stdout",
     "output_type": "stream",
     "text": [
      "0.4957831211948406\n"
     ]
    }
   ],
   "source": [
    "Z = np.random.uniform(0,1,10)\n",
    "z = 0.5\n",
    "m = Z.flat[np.abs(Z - z).argmin()]\n",
    "print(m)"
   ]
  },
  {
   "cell_type": "code",
   "execution_count": null,
   "metadata": {},
   "outputs": [],
   "source": [
    "a = np.arange(3).reshape(3,1)\n",
    "b = np.arange(3).reshape(1,3)\n",
    "it = np.nditer([A,B,None])\n",
    "for x,y,z in it: z[...] = x + y\n",
    "print(it.operands[2])"
   ]
  },
  {
   "cell_type": "code",
   "execution_count": null,
   "metadata": {},
   "outputs": [
    {
     "name": "stdout",
     "output_type": "stream",
     "text": [
      "[2. 4. 5. 1. 4. 2. 4. 4. 1. 3.]\n"
     ]
    }
   ],
   "source": [
    "Z = np.ones(10)\n",
    "I = np.random.randint(0,len(Z),20)\n",
    "Z += np.bincount(I, minlength=len(Z))\n",
    "print(Z)"
   ]
  },
  {
   "cell_type": "code",
   "execution_count": null,
   "metadata": {},
   "outputs": [
    {
     "name": "stdout",
     "output_type": "stream",
     "text": [
      "[0. 7. 0. 6. 5. 0. 0. 0. 0. 3.]\n"
     ]
    }
   ],
   "source": [
    "X = [1,2,3,4,5,6]\n",
    "I = [1,3,9,3,4,1]\n",
    "F = np.bincount(I,X)\n",
    "print(F)"
   ]
  },
  {
   "cell_type": "code",
   "execution_count": null,
   "metadata": {},
   "outputs": [
    {
     "name": "stdout",
     "output_type": "stream",
     "text": [
      "64\n"
     ]
    }
   ],
   "source": [
    "w, h = 256, 256\n",
    "I = np.random.randint(0, 4, (h, w, 3)).astype(np.ubyte)\n",
    "colors = np.unique(I.reshape(-1, 3), axis=0)\n",
    "n = len(colors)\n",
    "print(n)"
   ]
  },
  {
   "cell_type": "code",
   "execution_count": null,
   "metadata": {},
   "outputs": [
    {
     "name": "stdout",
     "output_type": "stream",
     "text": [
      "[[48 52 38 35]\n",
      " [71 48 41 53]\n",
      " [48 44 67 43]]\n"
     ]
    }
   ],
   "source": [
    "A = np.random.randint(0,10,(3,4,3,4))\n",
    "sum = A.sum(axis=(-2,-1))\n",
    "print(sum)"
   ]
  },
  {
   "cell_type": "code",
   "execution_count": null,
   "metadata": {},
   "outputs": [
    {
     "name": "stdout",
     "output_type": "stream",
     "text": [
      "[0.50234884 0.32187892 0.38806891 0.56874911 0.47196783 0.57351067\n",
      " 0.64228436 0.50673641 0.4436527  0.49435164]\n"
     ]
    }
   ],
   "source": [
    "D = np.random.uniform(0,1,100)\n",
    "S = np.random.randint(0,10,100)\n",
    "D_sums = np.bincount(S, weights=D)\n",
    "D_counts = np.bincount(S)\n",
    "D_means = D_sums / D_counts\n",
    "print(D_means)"
   ]
  },
  {
   "cell_type": "code",
   "execution_count": null,
   "metadata": {},
   "outputs": [
    {
     "data": {
      "text/plain": [
       "array([1.66148109, 0.74255311, 1.10452096, 1.40710921, 1.20689109])"
      ]
     },
     "execution_count": 70,
     "metadata": {},
     "output_type": "execute_result"
    }
   ],
   "source": [
    "\n",
    "A = np.random.uniform(0,1,(5,5))\n",
    "B = np.random.uniform(0,1,(5,5))\n",
    "np.diag(np.dot(A, B))\n",
    "np.sum(A * B.T, axis=1)"
   ]
  },
  {
   "cell_type": "code",
   "execution_count": null,
   "metadata": {},
   "outputs": [
    {
     "name": "stdout",
     "output_type": "stream",
     "text": [
      "[1. 0. 0. 0. 2. 0. 0. 0. 3. 0. 0. 0. 4. 0. 0. 0. 5.]\n"
     ]
    }
   ],
   "source": [
    "Z = np.array([1,2,3,4,5])\n",
    "nz = 3\n",
    "Z0 = np.zeros(len(Z) + (len(Z)-1)*(nz))\n",
    "Z0[::nz+1] = Z\n",
    "print(Z0)"
   ]
  },
  {
   "cell_type": "code",
   "execution_count": null,
   "metadata": {},
   "outputs": [],
   "source": [
    "A = np.arange(25).reshape(5,5)\n",
    "A[[0,1]] = A[[1,0]]\n",
    "print(A)"
   ]
  },
  {
   "cell_type": "code",
   "execution_count": null,
   "metadata": {},
   "outputs": [
    {
     "name": "stdout",
     "output_type": "stream",
     "text": [
      "[[21 91 80]\n",
      " [54 50 12]\n",
      " [82 22  7]\n",
      " [34 29 37]\n",
      " [55 80 41]\n",
      " [41 98 10]\n",
      " [88 19 92]\n",
      " [23 73 51]\n",
      " [ 2 50  2]\n",
      " [ 5 93 16]]\n",
      "[[21 21 91 91 80 80]\n",
      " [54 54 50 50 12 12]\n",
      " [82 82 22 22  7  7]\n",
      " [34 34 29 29 37 37]\n",
      " [55 55 80 80 41 41]\n",
      " [41 41 98 98 10 10]\n",
      " [88 88 19 19 92 92]\n",
      " [23 23 73 73 51 51]\n",
      " [ 2  2 50 50  2  2]\n",
      " [ 5  5 93 93 16 16]]\n",
      "[[21 91 91 80 80 21]\n",
      " [54 50 50 12 12 54]\n",
      " [82 22 22  7  7 82]\n",
      " [34 29 29 37 37 34]\n",
      " [55 80 80 41 41 55]\n",
      " [41 98 98 10 10 41]\n",
      " [88 19 19 92 92 88]\n",
      " [23 73 73 51 51 23]\n",
      " [ 2 50 50  2  2  2]\n",
      " [ 5 93 93 16 16  5]]\n",
      "[( 2,  2) ( 2, 50) ( 5, 16) ( 5, 93) ( 7, 22) ( 7, 82) (10, 41) (10, 98)\n",
      " (12, 50) (12, 54) (16, 93) (19, 88) (19, 92) (21, 80) (21, 91) (22, 82)\n",
      " (23, 51) (23, 73) (29, 34) (29, 37) (34, 37) (41, 55) (41, 80) (41, 98)\n",
      " (50, 54) (51, 73) (55, 80) (80, 91) (88, 92)]\n"
     ]
    }
   ],
   "source": [
    "faces = np.random.randint(0,100,(10,3))\n",
    "print(faces)\n",
    "print(faces.repeat(2,axis=1))\n",
    "F = np.roll(faces.repeat(2,axis=1),-1,axis=1)\n",
    "print(F)\n",
    "F = F.reshape(len(F)*3,2)\n",
    "F = np.sort(F,axis=1)\n",
    "G = F.view( dtype=[('p0',F.dtype),('p1',F.dtype)] )\n",
    "G = np.unique(G)\n",
    "print(G)"
   ]
  },
  {
   "cell_type": "code",
   "execution_count": null,
   "metadata": {},
   "outputs": [
    {
     "name": "stdout",
     "output_type": "stream",
     "text": [
      "[1 1 2 3 4 4 6]\n"
     ]
    }
   ],
   "source": [
    "C = np.bincount([1,1,2,3,4,4,6])\n",
    "A = np.repeat(np.arange(len(C)), C)\n",
    "print(A)"
   ]
  },
  {
   "cell_type": "code",
   "execution_count": null,
   "metadata": {},
   "outputs": [
    {
     "name": "stdout",
     "output_type": "stream",
     "text": [
      "[[[[ 0  1  2]\n",
      "   [ 3  4  5]\n",
      "   [ 6  7  8]]]\n",
      "\n",
      "\n",
      " [[[ 3  4  5]\n",
      "   [ 6  7  8]\n",
      "   [ 9 10 11]]]\n",
      "\n",
      "\n",
      " [[[ 6  7  8]\n",
      "   [ 9 10 11]\n",
      "   [12 13 14]]]\n",
      "\n",
      "\n",
      " [[[ 9 10 11]\n",
      "   [12 13 14]\n",
      "   [15 16 17]]]\n",
      "\n",
      "\n",
      " [[[12 13 14]\n",
      "   [15 16 17]\n",
      "   [18 19 20]]]\n",
      "\n",
      "\n",
      " [[[15 16 17]\n",
      "   [18 19 20]\n",
      "   [21 22 23]]]\n",
      "\n",
      "\n",
      " [[[18 19 20]\n",
      "   [21 22 23]\n",
      "   [24 25 26]]]\n",
      "\n",
      "\n",
      " [[[21 22 23]\n",
      "   [24 25 26]\n",
      "   [27 28 29]]]]\n",
      "[[[ 1.  4.  7.]]\n",
      "\n",
      " [[ 4.  7. 10.]]\n",
      "\n",
      " [[ 7. 10. 13.]]\n",
      "\n",
      " [[10. 13. 16.]]\n",
      "\n",
      " [[13. 16. 19.]]\n",
      "\n",
      " [[16. 19. 22.]]\n",
      "\n",
      " [[19. 22. 25.]]\n",
      "\n",
      " [[22. 25. 28.]]]\n"
     ]
    }
   ],
   "source": [
    "# def moving_average(a, n=3) :\n",
    "#     ret = np.cumsum(a, dtype=float)\n",
    "#     ret[n:] = ret[n:] - ret[:-n]\n",
    "#     return ret[n - 1:] / n\n",
    "# Z = np.arange(20)\n",
    "# print(moving_average(Z, n=3))\n",
    "\n",
    "\n",
    "\n",
    "\n",
    "\n",
    "from numpy.lib.stride_tricks import sliding_window_view\n",
    "\n",
    "Z = np.arange(30).reshape(10,3)\n",
    "print(sliding_window_view(Z, window_shape=(3,3)))\n",
    "print(sliding_window_view(Z, window_shape=(3,3)).mean(axis=-1))"
   ]
  },
  {
   "cell_type": "code",
   "execution_count": null,
   "metadata": {},
   "outputs": [
    {
     "data": {
      "text/plain": [
       "array([-0.9029882 , -0.59367795,  0.48775178, -0.76152566,  0.55366174,\n",
       "       -0.43300238,  0.88319684,  0.18643119, -0.71449802, -0.68503576,\n",
       "        0.65047473,  0.92234678,  0.28888111,  0.65397524, -0.40298156,\n",
       "        0.223315  , -0.48004055,  0.15122571,  0.37486144,  0.84535771,\n",
       "        0.25315496, -0.41785208,  0.32617227,  0.96097506, -0.78745437,\n",
       "        0.78944914, -0.47978836,  0.55772304,  0.799788  , -0.00265853,\n",
       "       -0.3953473 ,  0.65192083,  0.83588591, -0.56191188,  0.45075356,\n",
       "        0.68251097,  0.64472766, -0.32279662,  0.58367827,  0.38437725,\n",
       "       -0.41545559, -0.63101783,  0.94404052,  0.91180898, -0.89093899,\n",
       "        0.77956556,  0.61724629,  0.43001421,  0.06769383, -0.70684116,\n",
       "        0.78628459, -0.67784341,  0.55256112, -0.77684058,  0.44923115,\n",
       "       -0.58268056, -0.93417242,  0.57159009,  0.91529086,  0.49911969,\n",
       "        0.059997  , -0.43407847,  0.06193897, -0.28885807, -0.21477759,\n",
       "        0.82661845,  0.21187351,  0.67701744,  0.68252169, -0.089881  ,\n",
       "        0.37369263,  0.95011957, -0.74037783, -0.80083961, -0.02142469,\n",
       "        0.59263004, -0.31797738,  0.56356043,  0.60172113, -0.78456635,\n",
       "        0.20093826,  0.3893935 ,  0.71102802,  0.95245145,  0.35720442,\n",
       "        0.35989501, -0.27870951, -0.16849388,  0.36626248, -0.06341511,\n",
       "        0.06543897, -0.67520817,  0.57185988,  0.95792715,  0.75211001,\n",
       "        0.20549294,  0.58315082, -0.29327907,  0.18948256,  0.42309948])"
      ]
     },
     "execution_count": 77,
     "metadata": {},
     "output_type": "execute_result"
    }
   ],
   "source": [
    "\n",
    "Z = np.random.randint(0,2,100)\n",
    "np.logical_not(Z, out=Z)\n",
    "\n",
    "Z = np.random.uniform(-1.0,1.0,100)\n",
    "np.negative(Z, out=Z)"
   ]
  },
  {
   "cell_type": "code",
   "execution_count": null,
   "metadata": {},
   "outputs": [
    {
     "name": "stdout",
     "output_type": "stream",
     "text": [
      "(12, 4)\n",
      "[[          0           3           6]\n",
      " [          3           6           9]\n",
      " [          6           9          12]\n",
      " [          9          12          15]\n",
      " [         12          15          18]\n",
      " [         15          18          21]\n",
      " [         18          21          24]\n",
      " [         21          24          27]\n",
      " [         24          27  1449892915]\n",
      " [         27  1449892915           0]\n",
      " [ 1449892915           0           0]\n",
      " [          0           0           0]\n",
      " [          0           0           0]\n",
      " [          0           0           0]\n",
      " [          0           0           0]\n",
      " [          0           0           0]\n",
      " [          0           0           0]\n",
      " [          0           0           0]\n",
      " [          0           0           0]\n",
      " [          0           0 -2147480154]\n",
      " [          0 -2147480154           0]\n",
      " [-2147480154           0           0]\n",
      " [          0           0           0]\n",
      " [          0           0           0]\n",
      " [          0           0           0]\n",
      " [          0           0           0]\n",
      " [          0           0           0]\n",
      " [          0           0           0]]\n"
     ]
    }
   ],
   "source": [
    "from numpy.lib import stride_tricks\n",
    "\n",
    "def rolling(a, window):\n",
    "    shape = (a.size - window + 1, window)\n",
    "    strides = (a.strides[0], a.strides[0])\n",
    "    print(a.strides)\n",
    "    return stride_tricks.as_strided(a, shape=shape, strides=strides)\n",
    "Z = rolling(np.arange(30).reshape(10,3), 3)\n",
    "print(Z)\n"
   ]
  },
  {
   "cell_type": "code",
   "execution_count": null,
   "metadata": {},
   "outputs": [
    {
     "name": "stdout",
     "output_type": "stream",
     "text": [
      "[[ 3.2076098   8.95081402]\n",
      " [ 5.72052797  6.02903943]\n",
      " [ 0.88303312  4.1833843 ]\n",
      " [-3.95167811 -2.62306609]\n",
      " [ 8.53663749 -4.12454239]\n",
      " [ 0.82974038 -5.01767563]\n",
      " [ 5.54885369 -5.05955365]\n",
      " [ 7.99299716  6.82715743]\n",
      " [ 8.22070907  0.78869009]\n",
      " [-8.90300298  6.69853018]] [[-3.54107809  6.28845383]\n",
      " [-5.1535236  -9.26199221]\n",
      " [-8.72204019 -2.04222547]\n",
      " [ 8.22052567  3.92231661]\n",
      " [-9.1474676   9.25139764]\n",
      " [-3.23750924 -4.04456243]\n",
      " [ 1.67503038 -2.17724357]\n",
      " [-0.24015163  2.66450048]\n",
      " [ 7.49430354  5.34470681]\n",
      " [ 8.2930622   1.05668353]] [[ 8.97276598 -1.38429028]]\n",
      "[11.72970268  6.94670705  9.07212704  5.02999889  2.44858417  5.42844265\n",
      "  4.99248173  7.77013892  0.40054062  2.10744318]\n"
     ]
    }
   ],
   "source": [
    "def distance(P0, P1, p):\n",
    "    T = P1 - P0\n",
    "    L = (T**2).sum(axis=1)\n",
    "    U = -((P0[:,0]-p[...,0])*T[:,0] + (P0[:,1]-p[...,1])*T[:,1]) / L\n",
    "    U = U.reshape(len(U),1)\n",
    "    D = P0 + U*T - p\n",
    "    return np.sqrt((D**2).sum(axis=1))\n",
    "\n",
    "P0 = np.random.uniform(-10,10,(10,2))\n",
    "P1 = np.random.uniform(-10,10,(10,2))\n",
    "p  = np.random.uniform(-10,10,( 1,2))\n",
    "print(P0,P1,p)\n",
    "print(distance(P0, P1, p))"
   ]
  },
  {
   "cell_type": "markdown",
   "metadata": {},
   "source": [
    "78,79,80"
   ]
  },
  {
   "cell_type": "code",
   "execution_count": null,
   "metadata": {},
   "outputs": [
    {
     "data": {
      "text/plain": [
       "array([[ 1,  2,  3,  4],\n",
       "       [ 2,  3,  4,  5],\n",
       "       [ 3,  4,  5,  6],\n",
       "       [ 4,  5,  6,  7],\n",
       "       [ 5,  6,  7,  8],\n",
       "       [ 6,  7,  8,  9],\n",
       "       [ 7,  8,  9, 10],\n",
       "       [ 8,  9, 10, 11],\n",
       "       [ 9, 10, 11, 12],\n",
       "       [10, 11, 12, 13],\n",
       "       [11, 12, 13, 14]])"
      ]
     },
     "execution_count": 102,
     "metadata": {},
     "output_type": "execute_result"
    }
   ],
   "source": [
    "from numpy.lib.stride_tricks import sliding_window_view\n",
    "z=np.arange(1,15)\n",
    "z\n",
    "stride_tricks.sliding_window_view(z,4)"
   ]
  },
  {
   "cell_type": "code",
   "execution_count": null,
   "metadata": {},
   "outputs": [
    {
     "name": "stdout",
     "output_type": "stream",
     "text": [
      "10\n"
     ]
    }
   ],
   "source": [
    "Z = np.random.uniform(0,1,(10,10))\n",
    "rank = np.linalg.matrix_rank(Z)\n",
    "print(rank)"
   ]
  },
  {
   "cell_type": "code",
   "execution_count": null,
   "metadata": {},
   "outputs": [
    {
     "name": "stdout",
     "output_type": "stream",
     "text": [
      "[38 25 34 30 49 43 46 26 35 36 30 26 27 33 35 31 30 39 31 46 47 31 35 43\n",
      " 32 36 34 44 44 44 30 29 39 34 34 32 29 32 25 31 40 47 33 30 42 40 32 31\n",
      " 44 25]\n",
      "[0 0 0 0 0 0 0 0 0 0 0 0 0 0 0 0 0 0 0 0 0 0 0 0 0 3 2 1 0 2 5 5 4 2 4 3 2\n",
      " 0 1 2 2 0 1 2 4 0 2 2 0 1]\n",
      "30\n"
     ]
    }
   ],
   "source": [
    "z = np.random.randint(25,50,50)\n",
    "print(z)\n",
    "print(np.bincount(z))\n",
    "print(np.bincount(z).argmax())"
   ]
  },
  {
   "cell_type": "code",
   "execution_count": null,
   "metadata": {},
   "outputs": [
    {
     "name": "stdout",
     "output_type": "stream",
     "text": [
      "[[4 4 1 1 2 2 1 4 4 2]\n",
      " [4 1 3 3 2 1 2 4 2 2]\n",
      " [1 2 1 2 3 4 2 4 4 1]\n",
      " [1 1 2 1 3 2 1 3 2 1]\n",
      " [2 4 3 3 2 2 4 3 3 2]\n",
      " [3 1 4 2 2 4 3 4 4 1]\n",
      " [3 4 2 1 1 2 3 4 4 3]\n",
      " [2 1 3 1 4 1 2 4 3 4]\n",
      " [4 2 1 1 2 3 2 4 4 2]\n",
      " [3 2 3 1 2 2 3 4 1 4]]\n",
      "[[[[4 4 1]\n",
      "   [4 1 3]\n",
      "   [1 2 1]]\n",
      "\n",
      "  [[4 1 1]\n",
      "   [1 3 3]\n",
      "   [2 1 2]]\n",
      "\n",
      "  [[1 1 2]\n",
      "   [3 3 2]\n",
      "   [1 2 3]]\n",
      "\n",
      "  [[1 2 2]\n",
      "   [3 2 1]\n",
      "   [2 3 4]]\n",
      "\n",
      "  [[2 2 1]\n",
      "   [2 1 2]\n",
      "   [3 4 2]]\n",
      "\n",
      "  [[2 1 4]\n",
      "   [1 2 4]\n",
      "   [4 2 4]]\n",
      "\n",
      "  [[1 4 4]\n",
      "   [2 4 2]\n",
      "   [2 4 4]]\n",
      "\n",
      "  [[4 4 2]\n",
      "   [4 2 2]\n",
      "   [4 4 1]]]\n",
      "\n",
      "\n",
      " [[[4 1 3]\n",
      "   [1 2 1]\n",
      "   [1 1 2]]\n",
      "\n",
      "  [[1 3 3]\n",
      "   [2 1 2]\n",
      "   [1 2 1]]\n",
      "\n",
      "  [[3 3 2]\n",
      "   [1 2 3]\n",
      "   [2 1 3]]\n",
      "\n",
      "  [[3 2 1]\n",
      "   [2 3 4]\n",
      "   [1 3 2]]\n",
      "\n",
      "  [[2 1 2]\n",
      "   [3 4 2]\n",
      "   [3 2 1]]\n",
      "\n",
      "  [[1 2 4]\n",
      "   [4 2 4]\n",
      "   [2 1 3]]\n",
      "\n",
      "  [[2 4 2]\n",
      "   [2 4 4]\n",
      "   [1 3 2]]\n",
      "\n",
      "  [[4 2 2]\n",
      "   [4 4 1]\n",
      "   [3 2 1]]]\n",
      "\n",
      "\n",
      " [[[1 2 1]\n",
      "   [1 1 2]\n",
      "   [2 4 3]]\n",
      "\n",
      "  [[2 1 2]\n",
      "   [1 2 1]\n",
      "   [4 3 3]]\n",
      "\n",
      "  [[1 2 3]\n",
      "   [2 1 3]\n",
      "   [3 3 2]]\n",
      "\n",
      "  [[2 3 4]\n",
      "   [1 3 2]\n",
      "   [3 2 2]]\n",
      "\n",
      "  [[3 4 2]\n",
      "   [3 2 1]\n",
      "   [2 2 4]]\n",
      "\n",
      "  [[4 2 4]\n",
      "   [2 1 3]\n",
      "   [2 4 3]]\n",
      "\n",
      "  [[2 4 4]\n",
      "   [1 3 2]\n",
      "   [4 3 3]]\n",
      "\n",
      "  [[4 4 1]\n",
      "   [3 2 1]\n",
      "   [3 3 2]]]\n",
      "\n",
      "\n",
      " [[[1 1 2]\n",
      "   [2 4 3]\n",
      "   [3 1 4]]\n",
      "\n",
      "  [[1 2 1]\n",
      "   [4 3 3]\n",
      "   [1 4 2]]\n",
      "\n",
      "  [[2 1 3]\n",
      "   [3 3 2]\n",
      "   [4 2 2]]\n",
      "\n",
      "  [[1 3 2]\n",
      "   [3 2 2]\n",
      "   [2 2 4]]\n",
      "\n",
      "  [[3 2 1]\n",
      "   [2 2 4]\n",
      "   [2 4 3]]\n",
      "\n",
      "  [[2 1 3]\n",
      "   [2 4 3]\n",
      "   [4 3 4]]\n",
      "\n",
      "  [[1 3 2]\n",
      "   [4 3 3]\n",
      "   [3 4 4]]\n",
      "\n",
      "  [[3 2 1]\n",
      "   [3 3 2]\n",
      "   [4 4 1]]]\n",
      "\n",
      "\n",
      " [[[2 4 3]\n",
      "   [3 1 4]\n",
      "   [3 4 2]]\n",
      "\n",
      "  [[4 3 3]\n",
      "   [1 4 2]\n",
      "   [4 2 1]]\n",
      "\n",
      "  [[3 3 2]\n",
      "   [4 2 2]\n",
      "   [2 1 1]]\n",
      "\n",
      "  [[3 2 2]\n",
      "   [2 2 4]\n",
      "   [1 1 2]]\n",
      "\n",
      "  [[2 2 4]\n",
      "   [2 4 3]\n",
      "   [1 2 3]]\n",
      "\n",
      "  [[2 4 3]\n",
      "   [4 3 4]\n",
      "   [2 3 4]]\n",
      "\n",
      "  [[4 3 3]\n",
      "   [3 4 4]\n",
      "   [3 4 4]]\n",
      "\n",
      "  [[3 3 2]\n",
      "   [4 4 1]\n",
      "   [4 4 3]]]\n",
      "\n",
      "\n",
      " [[[3 1 4]\n",
      "   [3 4 2]\n",
      "   [2 1 3]]\n",
      "\n",
      "  [[1 4 2]\n",
      "   [4 2 1]\n",
      "   [1 3 1]]\n",
      "\n",
      "  [[4 2 2]\n",
      "   [2 1 1]\n",
      "   [3 1 4]]\n",
      "\n",
      "  [[2 2 4]\n",
      "   [1 1 2]\n",
      "   [1 4 1]]\n",
      "\n",
      "  [[2 4 3]\n",
      "   [1 2 3]\n",
      "   [4 1 2]]\n",
      "\n",
      "  [[4 3 4]\n",
      "   [2 3 4]\n",
      "   [1 2 4]]\n",
      "\n",
      "  [[3 4 4]\n",
      "   [3 4 4]\n",
      "   [2 4 3]]\n",
      "\n",
      "  [[4 4 1]\n",
      "   [4 4 3]\n",
      "   [4 3 4]]]\n",
      "\n",
      "\n",
      " [[[3 4 2]\n",
      "   [2 1 3]\n",
      "   [4 2 1]]\n",
      "\n",
      "  [[4 2 1]\n",
      "   [1 3 1]\n",
      "   [2 1 1]]\n",
      "\n",
      "  [[2 1 1]\n",
      "   [3 1 4]\n",
      "   [1 1 2]]\n",
      "\n",
      "  [[1 1 2]\n",
      "   [1 4 1]\n",
      "   [1 2 3]]\n",
      "\n",
      "  [[1 2 3]\n",
      "   [4 1 2]\n",
      "   [2 3 2]]\n",
      "\n",
      "  [[2 3 4]\n",
      "   [1 2 4]\n",
      "   [3 2 4]]\n",
      "\n",
      "  [[3 4 4]\n",
      "   [2 4 3]\n",
      "   [2 4 4]]\n",
      "\n",
      "  [[4 4 3]\n",
      "   [4 3 4]\n",
      "   [4 4 2]]]\n",
      "\n",
      "\n",
      " [[[2 1 3]\n",
      "   [4 2 1]\n",
      "   [3 2 3]]\n",
      "\n",
      "  [[1 3 1]\n",
      "   [2 1 1]\n",
      "   [2 3 1]]\n",
      "\n",
      "  [[3 1 4]\n",
      "   [1 1 2]\n",
      "   [3 1 2]]\n",
      "\n",
      "  [[1 4 1]\n",
      "   [1 2 3]\n",
      "   [1 2 2]]\n",
      "\n",
      "  [[4 1 2]\n",
      "   [2 3 2]\n",
      "   [2 2 3]]\n",
      "\n",
      "  [[1 2 4]\n",
      "   [3 2 4]\n",
      "   [2 3 4]]\n",
      "\n",
      "  [[2 4 3]\n",
      "   [2 4 4]\n",
      "   [3 4 1]]\n",
      "\n",
      "  [[4 3 4]\n",
      "   [4 4 2]\n",
      "   [4 1 4]]]]\n"
     ]
    }
   ],
   "source": [
    "z = np.random.randint(1,5,(10,10))\n",
    "print(z)\n",
    "print(sliding_window_view(z, window_shape=(3, 3)))"
   ]
  },
  {
   "cell_type": "code",
   "execution_count": null,
   "metadata": {},
   "outputs": [
    {
     "name": "stdout",
     "output_type": "stream",
     "text": [
      "[[200.]\n",
      " [200.]\n",
      " [200.]\n",
      " [200.]\n",
      " [200.]\n",
      " [200.]\n",
      " [200.]\n",
      " [200.]\n",
      " [200.]\n",
      " [200.]\n",
      " [200.]\n",
      " [200.]\n",
      " [200.]\n",
      " [200.]\n",
      " [200.]\n",
      " [200.]\n",
      " [200.]\n",
      " [200.]\n",
      " [200.]\n",
      " [200.]]\n"
     ]
    }
   ],
   "source": [
    "p, n = 10, 20\n",
    "M = np.ones((p,n,n))\n",
    "V = np.ones((p,n,1))\n",
    "#print(M,V)\n",
    "S = np.tensordot(M, V, axes=[[0, 2], [0, 1]])\n",
    "print(S)\n"
   ]
  },
  {
   "cell_type": "markdown",
   "metadata": {},
   "source": [
    "87,88"
   ]
  },
  {
   "cell_type": "code",
   "execution_count": 48,
   "metadata": {},
   "outputs": [
    {
     "name": "stdout",
     "output_type": "stream",
     "text": [
      "[4245 4615 9143 ... 9997    2 4999]\n",
      "[9999 9998 9997 9996 9995]\n",
      "[9995 9996 9997 9998 9999]\n"
     ]
    }
   ],
   "source": [
    "Z = np.arange(10000)\n",
    "np.random.shuffle(Z)\n",
    "n = 5\n",
    "print(np.argpartition(-Z,n))\n",
    "print (Z[np.argpartition(-Z,n)[:n]])\n",
    "print (Z[np.argsort(Z)[-n:]])"
   ]
  },
  {
   "cell_type": "code",
   "execution_count": 3,
   "metadata": {},
   "outputs": [
    {
     "name": "stdout",
     "output_type": "stream",
     "text": [
      "Help on built-in function approxPolyDP:\n",
      "\n",
      "approxPolyDP(...)\n",
      "    approxPolyDP(curve, epsilon, closed[, approxCurve]) -> approxCurve\n",
      "    .   @brief Approximates a polygonal curve(s) with the specified precision.\n",
      "    .   \n",
      "    .   The function cv::approxPolyDP approximates a curve or a polygon with another curve/polygon with less\n",
      "    .   vertices so that the distance between them is less or equal to the specified precision. It uses the\n",
      "    .   Douglas-Peucker algorithm <http://en.wikipedia.org/wiki/Ramer-Douglas-Peucker_algorithm>\n",
      "    .   \n",
      "    .   @param curve Input vector of a 2D point stored in std::vector or Mat\n",
      "    .   @param approxCurve Result of the approximation. The type should match the type of the input curve.\n",
      "    .   @param epsilon Parameter specifying the approximation accuracy. This is the maximum distance\n",
      "    .   between the original curve and its approximation.\n",
      "    .   @param closed If true, the approximated curve is closed (its first and last vertices are\n",
      "    .   connected). Otherwise, it is not closed.\n",
      "\n"
     ]
    }
   ],
   "source": [
    "import cv2\n",
    "help(cv2.approxPolyDP)"
   ]
  }
 ],
 "metadata": {
  "interpreter": {
   "hash": "df38b23c4f5fb9343ed1098cdf29b6ef7791a2710e3cf7fe44b8a42dc50bb9b3"
  },
  "kernelspec": {
   "display_name": "Python 3.10.3 64-bit",
   "language": "python",
   "name": "python3"
  },
  "language_info": {
   "codemirror_mode": {
    "name": "ipython",
    "version": 3
   },
   "file_extension": ".py",
   "mimetype": "text/x-python",
   "name": "python",
   "nbconvert_exporter": "python",
   "pygments_lexer": "ipython3",
   "version": "3.10.4"
  },
  "orig_nbformat": 4
 },
 "nbformat": 4,
 "nbformat_minor": 2
}
