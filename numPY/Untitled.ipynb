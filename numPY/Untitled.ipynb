{
 "cells": [
  {
   "cell_type": "code",
   "execution_count": 2,
   "metadata": {},
   "outputs": [],
   "source": [
    "import numpy as np"
   ]
  },
  {
   "cell_type": "markdown",
   "id": "1e94bf74",
   "metadata": {},
   "source": [
    "Array conversion from 1D to 2D \"Adding new index\"\n",
    "inserting a newaxis in first position results in adding new axis in row else it will be inserted in column"
   ]
  },
  {
   "cell_type": "code",
   "execution_count": 6,
   "id": "e0fbd4d9",
   "metadata": {},
   "outputs": [
    {
     "data": {
      "text/plain": [
       "array([[1, 2, 3, 4, 5, 6]])"
      ]
     },
     "execution_count": 6,
     "metadata": {},
     "output_type": "execute_result"
    }
   ],
   "source": [
    "a=np.array([1,2,3,4,5,6])\n",
    "a.shape\n",
    "a2=a[np.newaxis,:]\n",
    "a2.shape\n",
    "a3=a[np.newaxis,:]\n",
    "a3.shape\n"
   ]
  },
  {
   "cell_type": "markdown",
   "id": "dcfefc5e",
   "metadata": {},
   "source": [
    "indexing the array a=can also be done with the help of the constraints"
   ]
  },
  {
   "cell_type": "code",
   "execution_count": 34,
   "id": "0362d8a8",
   "metadata": {},
   "outputs": [
    {
     "name": "stdout",
     "output_type": "stream",
     "text": [
      "[[ 1  2  3  4]\n",
      " [ 5  6  7  8]\n",
      " [ 9 10 11 12]]\n",
      "[[ 5  6  7  8]\n",
      " [ 9 10 11 12]]\n",
      "[[5 6 7 8]]\n",
      "[ 2  4  6  8 10 12]\n",
      "[ 6  8 10 12]\n",
      "[ 2  4  6  7  8  9 10 11 12]\n"
     ]
    }
   ],
   "source": [
    "# print(a)\n",
    "# print(a[1:])\n",
    "# print(a[1:2])\n",
    "# print(a[-1])\n",
    "a = np.array([[1 , 2, 3, 4], [5, 6, 7, 8], [9, 10, 11, 12]])\n",
    "print(a)\n",
    "print(a[1:])\n",
    "print(a[1:2])\n",
    "print(a[a%2==0])\n",
    "print(a[(a>5)&(a%2==0)])\n",
    "print(a[(a>5)|(a%2==0)])\n"
   ]
  },
  {
   "cell_type": "code",
   "execution_count": 24,
   "id": "5480d782",
   "metadata": {},
   "outputs": [
    {
     "name": "stdout",
     "output_type": "stream",
     "text": [
      "(array([0, 0, 0, 0], dtype=int64), array([0, 1, 2, 3], dtype=int64))\n"
     ]
    },
    {
     "data": {
      "text/plain": [
       "[(0, 0), (0, 1), (0, 2), (0, 3)]"
      ]
     },
     "execution_count": 24,
     "metadata": {},
     "output_type": "execute_result"
    }
   ],
   "source": [
    "b=np.nonzero(a<5)\n",
    "print(b)\n",
    "x=list(zip(b[0],b[1]))\n",
    "\n"
   ]
  },
  {
   "cell_type": "code",
   "execution_count": 42,
   "id": "7d12fc11",
   "metadata": {},
   "outputs": [
    {
     "name": "stdout",
     "output_type": "stream",
     "text": [
      "[[ 1  2  3  4  5  6  7  8  9 10 11 12]\n",
      " [13 14 15 16 17 18 19 20 21 22 23 24]]\n"
     ]
    },
    {
     "data": {
      "text/plain": [
       "[array([[ 1,  2,  3],\n",
       "        [13, 14, 15]]),\n",
       " array([[ 4,  5,  6,  7],\n",
       "        [16, 17, 18, 19]]),\n",
       " array([[ 8,  9, 10, 11, 12],\n",
       "        [20, 21, 22, 23, 24]])]"
      ]
     },
     "execution_count": 42,
     "metadata": {},
     "output_type": "execute_result"
    }
   ],
   "source": [
    "a= np.arange(1, 25).reshape(2, 12)\n",
    "print(a)\n",
    "a1=np.array([[1,2],[3,4]])\n",
    "a2=np.array([[5,6],[7,8]])\n",
    "np.vstack((a1,a2))\n",
    "np.hstack((a1,a2))\n",
    "np.hsplit(a,(3,7))\n",
    "# np.vsplit(a,2)"
   ]
  },
  {
   "cell_type": "code",
   "execution_count": 74,
   "id": "cc10854f",
   "metadata": {},
   "outputs": [
    {
     "data": {
      "text/plain": [
       "array([[5, 4, 5],\n",
       "       [5, 4, 6],\n",
       "       [6, 5, 6]])"
      ]
     },
     "execution_count": 74,
     "metadata": {},
     "output_type": "execute_result"
    }
   ],
   "source": [
    "p=np.random.rand(4,2)\n",
    "q=np.random.randint(4,7,size=(3,3))\n",
    "p\n",
    "q"
   ]
  },
  {
   "cell_type": "code",
   "execution_count": null,
   "id": "35dfc2e1",
   "metadata": {},
   "outputs": [],
   "source": []
  }
 ],
 "metadata": {
  "interpreter": {
   "hash": "df38b23c4f5fb9343ed1098cdf29b6ef7791a2710e3cf7fe44b8a42dc50bb9b3"
  },
  "kernelspec": {
   "display_name": "Python 3.10.4 64-bit",
   "language": "python",
   "name": "python3"
  },
  "language_info": {
   "codemirror_mode": {
    "name": "ipython",
    "version": 3
   },
   "file_extension": ".py",
   "mimetype": "text/x-python",
   "name": "python",
   "nbconvert_exporter": "python",
   "pygments_lexer": "ipython3",
   "version": "3.10.4"
  }
 },
 "nbformat": 4,
 "nbformat_minor": 5
}
