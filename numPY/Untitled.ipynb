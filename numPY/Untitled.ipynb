{
 "cells": [
  {
   "cell_type": "code",
   "execution_count": 19,
   "metadata": {},
   "outputs": [],
   "source": [
    "import numpy as np\n",
    "import sys"
   ]
  },
  {
   "cell_type": "markdown",
   "id": "1e94bf74",
   "metadata": {},
   "source": [
    "Array conversion from 1D to 2D \"Adding new index\"\n",
    "inserting a newaxis in first position results in adding new axis in row else it will be inserted in column"
   ]
  },
  {
   "cell_type": "code",
   "execution_count": 20,
   "id": "e0fbd4d9",
   "metadata": {},
   "outputs": [
    {
     "data": {
      "text/plain": [
       "(1, 6)"
      ]
     },
     "execution_count": 20,
     "metadata": {},
     "output_type": "execute_result"
    }
   ],
   "source": [
    "a=np.array([1,2,3,4,5,6])\n",
    "a.shape\n",
    "a2=a[np.newaxis,:]\n",
    "a2.shape\n",
    "a3=a[np.newaxis,:]\n",
    "a3.shape\n"
   ]
  },
  {
   "cell_type": "markdown",
   "id": "dcfefc5e",
   "metadata": {},
   "source": [
    "indexing the array 'a'can also be done with the help of the constraints"
   ]
  },
  {
   "cell_type": "code",
   "execution_count": 21,
   "id": "0362d8a8",
   "metadata": {},
   "outputs": [
    {
     "name": "stdout",
     "output_type": "stream",
     "text": [
      "[[ 1  2  3  4]\n",
      " [ 5  6  7  8]\n",
      " [ 9 10 11 12]]\n",
      "[[ 5  6  7  8]\n",
      " [ 9 10 11 12]]\n",
      "[[5 6 7 8]]\n",
      "[ 2  4  6  8 10 12]\n",
      "[ 6  8 10 12]\n",
      "[ 2  4  6  7  8  9 10 11 12]\n"
     ]
    }
   ],
   "source": [
    "# print(a)\n",
    "# print(a[1:])\n",
    "# print(a[1:2])\n",
    "# print(a[-1])\n",
    "a = np.array([[1 , 2, 3, 4], [5, 6, 7, 8], [9, 10, 11, 12]])\n",
    "print(a)\n",
    "print(a[1:])\n",
    "print(a[1:2])\n",
    "print(a[a%2==0])\n",
    "print(a[(a>5)&(a%2==0)])\n",
    "print(a[(a>5)|(a%2==0)])\n"
   ]
  },
  {
   "cell_type": "code",
   "execution_count": 22,
   "id": "5480d782",
   "metadata": {},
   "outputs": [
    {
     "name": "stdout",
     "output_type": "stream",
     "text": [
      "(array([0, 0, 0, 0], dtype=int64), array([0, 1, 2, 3], dtype=int64))\n"
     ]
    }
   ],
   "source": [
    "b=np.nonzero(a<5)\n",
    "print(b)\n",
    "x=list(zip(b[0],b[1]))\n",
    "\n"
   ]
  },
  {
   "cell_type": "code",
   "execution_count": 23,
   "id": "7d12fc11",
   "metadata": {},
   "outputs": [
    {
     "name": "stdout",
     "output_type": "stream",
     "text": [
      "[[ 1  2  3  4  5  6  7  8  9 10 11 12]\n",
      " [13 14 15 16 17 18 19 20 21 22 23 24]]\n"
     ]
    },
    {
     "data": {
      "text/plain": [
       "[array([[ 1,  2,  3],\n",
       "        [13, 14, 15]]),\n",
       " array([[ 4,  5,  6,  7],\n",
       "        [16, 17, 18, 19]]),\n",
       " array([[ 8,  9, 10, 11, 12],\n",
       "        [20, 21, 22, 23, 24]])]"
      ]
     },
     "execution_count": 23,
     "metadata": {},
     "output_type": "execute_result"
    }
   ],
   "source": [
    "a= np.arange(1, 25).reshape(2, 12)\n",
    "print(a)\n",
    "a1=np.array([[1,2],[3,4]])\n",
    "a2=np.array([[5,6],[7,8]])\n",
    "np.vstack((a1,a2))\n",
    "np.hstack((a1,a2))\n",
    "np.hsplit(a,(3,7))\n",
    "# np.vsplit(a,2)"
   ]
  },
  {
   "cell_type": "code",
   "execution_count": 24,
   "id": "cc10854f",
   "metadata": {},
   "outputs": [
    {
     "data": {
      "text/plain": [
       "array([[6, 3, 6],\n",
       "       [4, 0, 0],\n",
       "       [1, 2, 1]])"
      ]
     },
     "execution_count": 24,
     "metadata": {},
     "output_type": "execute_result"
    }
   ],
   "source": [
    "p=np.random.rand(4,2)\n",
    "q=np.random.randint(7,size=(3,3))\n",
    "p\n",
    "q"
   ]
  },
  {
   "cell_type": "code",
   "execution_count": 25,
   "id": "690c7af6",
   "metadata": {},
   "outputs": [],
   "source": [
    "rng=np.random.default_rng(10)\n",
    "rng.random((3,3))\n",
    "x=rng.integers(1,7,(5,5))\n",
    "rng=np.random.default_rng()\n",
    "rng.integers(75,size=(10,10))"
   ]
  },
  {
   "cell_type": "code",
   "execution_count": 26,
   "id": "340f2346",
   "metadata": {},
   "outputs": [
    {
     "name": "stdout",
     "output_type": "stream",
     "text": [
      "[[4 6 2 5 1]\n",
      " [3 5 4 6 5]\n",
      " [6 5 1 6 6]\n",
      " [1 6 5 2 1]\n",
      " [3 6 5 2 3]]\n",
      "Help on built-in function max in module builtins:\n",
      "\n",
      "max(...)\n",
      "    max(iterable, *[, default=obj, key=func]) -> value\n",
      "    max(arg1, arg2, *args, *[, key=func]) -> value\n",
      "    \n",
      "    With a single iterable argument, return its biggest item. The\n",
      "    default keyword-only argument specifies an object to return if\n",
      "    the provided iterable is empty.\n",
      "    With two or more arguments, return the largest argument.\n",
      "\n"
     ]
    }
   ],
   "source": [
    "print(x)\n",
    "x.T\n",
    "help(max)"
   ]
  },
  {
   "cell_type": "code",
   "execution_count": 27,
   "id": "65dbdea1",
   "metadata": {},
   "outputs": [
    {
     "data": {
      "text/plain": [
       "array([[3, 6, 5, 2, 3],\n",
       "       [1, 6, 5, 2, 1],\n",
       "       [6, 5, 1, 6, 6],\n",
       "       [3, 5, 4, 6, 5],\n",
       "       [4, 6, 2, 5, 1]], dtype=int64)"
      ]
     },
     "execution_count": 27,
     "metadata": {},
     "output_type": "execute_result"
    }
   ],
   "source": [
    "\n",
    "np.unique(x,return_index=True,return_counts=True)\n",
    "np.flip(x,axis=0)"
   ]
  },
  {
   "cell_type": "code",
   "execution_count": 28,
   "id": "b8c6d2d4",
   "metadata": {},
   "outputs": [
    {
     "name": "stdout",
     "output_type": "stream",
     "text": [
      "[[[[ 0  1]\n",
      "   [ 2  3]]\n",
      "\n",
      "  [[ 4  5]\n",
      "   [ 6  7]]]\n",
      "\n",
      "\n",
      " [[[ 8  9]\n",
      "   [10 11]]\n",
      "\n",
      "  [[12 13]\n",
      "   [14 15]]]\n",
      "\n",
      "\n",
      " [[[16 17]\n",
      "   [18 19]]\n",
      "\n",
      "  [[20 21]\n",
      "   [22 23]]]\n",
      "\n",
      "\n",
      " [[[24 25]\n",
      "   [26 27]]\n",
      "\n",
      "  [[28 29]\n",
      "   [30 31]]]\n",
      "\n",
      "\n",
      " [[[32 33]\n",
      "   [34 35]]\n",
      "\n",
      "  [[36 37]\n",
      "   [38 39]]]]\n"
     ]
    },
    {
     "data": {
      "text/plain": [
       "array([[[[24, 25],\n",
       "         [26, 27]],\n",
       "\n",
       "        [[28, 29],\n",
       "         [30, 31]]],\n",
       "\n",
       "\n",
       "       [[[ 8,  9],\n",
       "         [10, 11]],\n",
       "\n",
       "        [[12, 13],\n",
       "         [14, 15]]],\n",
       "\n",
       "\n",
       "       [[[ 8,  9],\n",
       "         [10, 11]],\n",
       "\n",
       "        [[12, 13],\n",
       "         [14, 15]]],\n",
       "\n",
       "\n",
       "       [[[ 8,  9],\n",
       "         [10, 11]],\n",
       "\n",
       "        [[12, 13],\n",
       "         [14, 15]]]])"
      ]
     },
     "execution_count": 28,
     "metadata": {},
     "output_type": "execute_result"
    }
   ],
   "source": [
    "\n",
    "z=np.arange(40).reshape(5,2,2,2)\n",
    "np.set_printoptions(threshold=sys.maxsize)\n",
    "print(z)\n",
    "indices=[3,1,1,1] \n",
    "z[indices]"
   ]
  },
  {
   "cell_type": "code",
   "execution_count": 29,
   "id": "cddf70fa",
   "metadata": {},
   "outputs": [
    {
     "data": {
      "text/plain": [
       "array([[  1,   2,   3,   4,   5,   6,   7,   8,   9,  10],\n",
       "       [  2,   4,   6,   8,  10,  12,  14,  16,  18,  20],\n",
       "       [  3,   6,   9,  12,  15,  18,  21,  24,  27,  30],\n",
       "       [  4,   8,  12,  16,  20,  24,  28,  32,  36,  40],\n",
       "       [  5,  10,  15,  20,  25,  30,  35,  40,  45,  50],\n",
       "       [  6,  12,  18,  24,  30,  36,  42,  48,  54,  60],\n",
       "       [  7,  14,  21,  28,  35,  42,  49,  56,  63,  70],\n",
       "       [  8,  16,  24,  32,  40,  48,  56,  64,  72,  80],\n",
       "       [  9,  18,  27,  36,  45,  54,  63,  72,  81,  90],\n",
       "       [ 10,  20,  30,  40,  50,  60,  70,  80,  90, 100],\n",
       "       [ 11,  22,  33,  44,  55,  66,  77,  88,  99, 110],\n",
       "       [ 12,  24,  36,  48,  60,  72,  84,  96, 108, 120],\n",
       "       [ 13,  26,  39,  52,  65,  78,  91, 104, 117, 130],\n",
       "       [ 14,  28,  42,  56,  70,  84,  98, 112, 126, 140],\n",
       "       [ 15,  30,  45,  60,  75,  90, 105, 120, 135, 150],\n",
       "       [ 16,  32,  48,  64,  80,  96, 112, 128, 144, 160],\n",
       "       [ 17,  34,  51,  68,  85, 102, 119, 136, 153, 170],\n",
       "       [ 18,  36,  54,  72,  90, 108, 126, 144, 162, 180],\n",
       "       [ 19,  38,  57,  76,  95, 114, 133, 152, 171, 190],\n",
       "       [ 20,  40,  60,  80, 100, 120, 140, 160, 180, 200]])"
      ]
     },
     "execution_count": 29,
     "metadata": {},
     "output_type": "execute_result"
    }
   ],
   "source": [
    "a=np.arange(1,21).reshape(20,1)\n",
    "b=np.arange(1,11).reshape(1,10)\n",
    "a*b\n"
   ]
  },
  {
   "cell_type": "code",
   "execution_count": 30,
   "id": "f3395b71",
   "metadata": {},
   "outputs": [
    {
     "name": "stdout",
     "output_type": "stream",
     "text": [
      "\n",
      "Column stacking:\n",
      " [[1 2 5]\n",
      " [3 4 6]]\n",
      "\n",
      "Concatenating to 2nd axis:\n",
      " [[1 2]\n",
      " [3 4]\n",
      " [5 6]\n",
      " [7 8]]\n"
     ]
    }
   ],
   "source": [
    "\n",
    "\n",
    "a = np.array([[1, 2],\n",
    "\t\t\t[3, 4]])\n",
    "\n",
    "b = np.array([[5, 6],\n",
    "\t\t\t[7, 8]])\n",
    "c = [5, 6]\n",
    "\n",
    "# stacking columns\n",
    "print(\"\\nColumn stacking:\\n\", np.column_stack((a, c)))\n",
    "\n",
    "# concatenation method\n",
    "print(\"\\nConcatenating to 2nd axis:\\n\", np.concatenate((a, b), 0))\n"
   ]
  }
 ],
 "metadata": {
  "interpreter": {
   "hash": "df38b23c4f5fb9343ed1098cdf29b6ef7791a2710e3cf7fe44b8a42dc50bb9b3"
  },
  "kernelspec": {
   "display_name": "Python 3.10.4 64-bit",
   "language": "python",
   "name": "python3"
  },
  "language_info": {
   "codemirror_mode": {
    "name": "ipython",
    "version": 3
   },
   "file_extension": ".py",
   "mimetype": "text/x-python",
   "name": "python",
   "nbconvert_exporter": "python",
   "pygments_lexer": "ipython3",
   "version": "3.10.4"
  }
 },
 "nbformat": 4,
 "nbformat_minor": 5
}
